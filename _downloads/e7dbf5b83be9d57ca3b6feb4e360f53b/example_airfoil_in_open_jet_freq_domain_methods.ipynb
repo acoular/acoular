{
  "cells": [
    {
      "cell_type": "markdown",
      "metadata": {},
      "source": [
        "\n# Airfoil in open jet -- Frequency domain beamforming methods.\n\nDemonstrates different microphone array methods operating in the frequency domain.\nUses measured data in file example_data.h5, calibration in file example_calib.xml,\nmicrophone geometry in array_56.xml (part of Acoular).\n"
      ]
    },
    {
      "cell_type": "code",
      "execution_count": null,
      "metadata": {
        "collapsed": false
      },
      "outputs": [],
      "source": [
        "from pathlib import Path\n\nimport acoular as ac\nfrom acoular.tools.helpers import get_data_file"
      ]
    },
    {
      "cell_type": "markdown",
      "metadata": {},
      "source": [
        "The 4 kHz third-octave band is used for the example.\n\n"
      ]
    },
    {
      "cell_type": "code",
      "execution_count": null,
      "metadata": {
        "collapsed": false
      },
      "outputs": [],
      "source": [
        "cfreq = 4000\nnum = 3"
      ]
    },
    {
      "cell_type": "markdown",
      "metadata": {},
      "source": [
        "Obtain necessary data\n\n"
      ]
    },
    {
      "cell_type": "code",
      "execution_count": null,
      "metadata": {
        "collapsed": false
      },
      "outputs": [],
      "source": [
        "time_data_file = get_data_file('example_data.h5')\ncalib_file = get_data_file('example_calib.xml')"
      ]
    },
    {
      "cell_type": "markdown",
      "metadata": {},
      "source": [
        "Setting up the processing chain for the frequency domain methods.\n\n.. hint::\n   An in-depth explanation for setting up the processing chain is given in the example\n   :doc:`example_airfoil_in_open_jet_steering_vectors`.\n\n"
      ]
    },
    {
      "cell_type": "code",
      "execution_count": null,
      "metadata": {
        "collapsed": false
      },
      "outputs": [],
      "source": [
        "ts = ac.MaskedTimeSamples(\n    file=time_data_file,\n    invalid_channels=[1, 7],\n    start=0,\n    stop=16000,\n)\ncalib = ac.Calib(source=ts, file=calib_file, invalid_channels=[1, 7])\nmics = ac.MicGeom(file=Path(ac.__file__).parent / 'xml' / 'array_56.xml', invalid_channels=[1, 7])\ngrid = ac.RectGrid(x_min=-0.6, x_max=-0.0, y_min=-0.3, y_max=0.3, z=-0.68, increment=0.05)\nenv = ac.Environment(c=346.04)\nst = ac.SteeringVector(grid=grid, mics=mics, env=env)\nf = ac.PowerSpectra(source=calib, window='Hanning', overlap='50%', block_size=128)"
      ]
    },
    {
      "cell_type": "markdown",
      "metadata": {},
      "source": [
        "Here, different frequency domain beamformers defined in the module :mod:`~acoular.fbeamform` are\nused and the corresponding result maps are calculated by evaluating the\n:meth:`~acoular.fbeamform.BeamformerBase.synthetic` method with the desired frequency and\nbandwidth.\n\n"
      ]
    },
    {
      "cell_type": "code",
      "execution_count": null,
      "metadata": {
        "collapsed": false
      },
      "outputs": [],
      "source": [
        "bb = ac.BeamformerBase(freq_data=f, steer=st, r_diag=True)\nbc = ac.BeamformerCapon(freq_data=f, steer=st, cached=False)\nbe = ac.BeamformerEig(freq_data=f, steer=st, r_diag=True, n=54)\nbm = ac.BeamformerMusic(freq_data=f, steer=st, n=6)\nbd = ac.BeamformerDamas(freq_data=f, steer=st, r_diag=True, n_iter=100)\nbdp = ac.BeamformerDamasPlus(freq_data=f, steer=st, r_diag=True, n_iter=100)\nbo = ac.BeamformerOrth(freq_data=f, steer=st, r_diag=True, eva_list=list(range(38, 54)))\nbs = ac.BeamformerCleansc(freq_data=f, steer=st, r_diag=True)\nbcmf = ac.BeamformerCMF(freq_data=f, steer=st, method='LassoLarsBIC')\nbl = ac.BeamformerClean(freq_data=f, steer=st, r_diag=True, n_iter=100)\nbf = ac.BeamformerFunctional(freq_data=f, steer=st, r_diag=False, gamma=4)\nbgib = ac.BeamformerGIB(freq_data=f, steer=st, method='LassoLars', n=10)"
      ]
    },
    {
      "cell_type": "markdown",
      "metadata": {},
      "source": [
        "Plot result maps for different beamformers in frequency domain\n\n"
      ]
    },
    {
      "cell_type": "code",
      "execution_count": null,
      "metadata": {
        "collapsed": false
      },
      "outputs": [],
      "source": [
        "import matplotlib.pyplot as plt\n\nplt.figure(1, (10, 6))\ni1 = 1  # no of subplot\nfor b in (bb, bc, be, bm, bl, bo, bs, bd, bcmf, bf, bdp, bgib):\n    plt.subplot(3, 4, i1)\n    i1 += 1\n    map = b.synthetic(cfreq, num)\n    mx = ac.L_p(map.max())\n    plt.imshow(ac.L_p(map.T), origin='lower', vmin=mx - 15, interpolation='nearest', extent=grid.extent)\n    plt.colorbar()\n    plt.title(b.__class__.__name__)\n    plt.tight_layout()\nplt.show()"
      ]
    }
  ],
  "metadata": {
    "kernelspec": {
      "display_name": "Python 3",
      "language": "python",
      "name": "python3"
    },
    "language_info": {
      "codemirror_mode": {
        "name": "ipython",
        "version": 3
      },
      "file_extension": ".py",
      "mimetype": "text/x-python",
      "name": "python",
      "nbconvert_exporter": "python",
      "pygments_lexer": "ipython3",
      "version": "3.13.7"
    }
  },
  "nbformat": 4,
  "nbformat_minor": 0
}