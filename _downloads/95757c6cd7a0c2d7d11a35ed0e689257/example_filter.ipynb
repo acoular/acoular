{
  "cells": [
    {
      "cell_type": "markdown",
      "metadata": {},
      "source": [
        "\n# Show basic filtering capabilities.\n\nDemonstrates band pass filter characteristics and shows\n\n* unfiltered power spectrum\n* three adjacent octave bands filtered spectra\n* sum of all octave band spectra\n"
      ]
    },
    {
      "cell_type": "code",
      "execution_count": null,
      "metadata": {
        "collapsed": false
      },
      "outputs": [],
      "source": [
        "import acoular as ac\nimport matplotlib.pyplot as plt\nimport numpy as np\n\nac.config.global_caching = 'none'\nnum_samples = 51200 * 10\nn1 = ac.WNoiseGenerator(sample_freq=51200, num_samples=num_samples, seed=1)\nm1 = ac.MicGeom(pos_total=[[1], [1], [1]])\np1 = ac.PointSource(signal=n1, mics=m1)\nf1 = ac.FiltFiltOctave(source=p1, band=10, fraction='Octave')\nhs = 0.0\nres0 = 0.0\nfor i in np.arange(2.1, 3.0, 0.3):\n    # f1.order = 2\n    f1.band = 10**i\n    res = (ac.tools.return_result(f1) ** 2).sum()\n    res0 += res\n    ps = ac.PowerSpectra(source=f1, block_size=8192)\n    # print(res / num_samples, ps.csm[:, 0, 0].real.sum())\n    x = ps.fftfreq()\n    y = 10 * np.log10(ps.csm[:, 0, 0].real)\n    plt.semilogx(x, y)\n    hs = hs + ps.csm[:, 0, 0].real\ny = 10 * np.log10(abs(hs))\nplt.semilogx(x, y)\nps = ac.PowerSpectra(source=p1, block_size=8192)\nx = ps.fftfreq()\ny = 10 * np.log10(ps.csm[:, 0, 0].real)\nplt.semilogx(x, y)\nplt.ylim(-45, -35)\nplt.xlim(70, 1400)\nplt.show()"
      ]
    }
  ],
  "metadata": {
    "kernelspec": {
      "display_name": "Python 3",
      "language": "python",
      "name": "python3"
    },
    "language_info": {
      "codemirror_mode": {
        "name": "ipython",
        "version": 3
      },
      "file_extension": ".py",
      "mimetype": "text/x-python",
      "name": "python",
      "nbconvert_exporter": "python",
      "pygments_lexer": "ipython3",
      "version": "3.13.7"
    }
  },
  "nbformat": 4,
  "nbformat_minor": 0
}