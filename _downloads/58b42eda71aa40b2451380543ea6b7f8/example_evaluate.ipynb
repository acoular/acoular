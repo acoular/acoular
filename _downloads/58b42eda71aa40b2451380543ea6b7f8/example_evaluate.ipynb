{
  "cells": [
    {
      "cell_type": "markdown",
      "metadata": {},
      "source": [
        "\n# Evaluate source characterization performance.\n\nThis example demonstrates how to evaluate the performance of a beamforming algorithm using\nthe :class:`~acoular.tools.metrics.MetricEvaluator` class to calculate the metrics introduced in\n:cite:`Herold2017`.\n"
      ]
    },
    {
      "cell_type": "code",
      "execution_count": null,
      "metadata": {
        "collapsed": false
      },
      "outputs": [],
      "source": [
        "from pathlib import Path\n\nimport acoular as ac\nimport matplotlib.pyplot as plt\nimport numpy as np\nfrom acoular.tools import MetricEvaluator"
      ]
    },
    {
      "cell_type": "markdown",
      "metadata": {},
      "source": [
        "Set up the parameters\n\n"
      ]
    },
    {
      "cell_type": "code",
      "execution_count": null,
      "metadata": {
        "collapsed": false
      },
      "outputs": [],
      "source": [
        "sfreq = 51200\nduration = 1\nnum_samples = duration * sfreq\nmicgeofile = Path(ac.__file__).parent / 'xml' / 'array_64.xml'"
      ]
    },
    {
      "cell_type": "markdown",
      "metadata": {},
      "source": [
        "Generate test data, in real life this would come from an array measurement\n\n"
      ]
    },
    {
      "cell_type": "code",
      "execution_count": null,
      "metadata": {
        "collapsed": false
      },
      "outputs": [],
      "source": [
        "mg = ac.MicGeom(file=micgeofile)\nn1 = ac.WNoiseGenerator(sample_freq=sfreq, num_samples=num_samples, seed=1)\nn2 = ac.WNoiseGenerator(sample_freq=sfreq, num_samples=num_samples, seed=2, rms=0.7)\nn3 = ac.WNoiseGenerator(sample_freq=sfreq, num_samples=num_samples, seed=3, rms=0.5)\np1 = ac.PointSource(signal=n1, mics=mg, loc=(-0.1, -0.1, -0.3))\np2 = ac.PointSource(signal=n2, mics=mg, loc=(0.15, 0, -0.3))\np3 = ac.PointSource(signal=n3, mics=mg, loc=(0, 0.1, -0.3))\npa = ac.Mixer(source=p1, sources=[p2, p3])"
      ]
    },
    {
      "cell_type": "markdown",
      "metadata": {},
      "source": [
        "Analyze the data and generate a deconvolved source map with CLEAN-SC\n\n"
      ]
    },
    {
      "cell_type": "code",
      "execution_count": null,
      "metadata": {
        "collapsed": false
      },
      "outputs": [],
      "source": [
        "ps = ac.PowerSpectra(source=pa, block_size=128, window='Hanning')\nrg = ac.RectGrid(x_min=-0.2, x_max=0.2, y_min=-0.2, y_max=0.2, z=-0.3, increment=0.01)\nst = ac.SteeringVector(grid=rg, mics=mg, ref=1.0)\nbb = ac.BeamformerCleansc(freq_data=ps, steer=st)\npm = bb.synthetic(8000, 0)\nLm = ac.L_p(pm)"
      ]
    },
    {
      "cell_type": "markdown",
      "metadata": {},
      "source": [
        "Evaluate the results:\nTherefore, we define a custom grid containing the source locations.\n\n"
      ]
    },
    {
      "cell_type": "code",
      "execution_count": null,
      "metadata": {
        "collapsed": false
      },
      "outputs": [],
      "source": [
        "target_grid = ac.ImportGrid(\n    pos=np.array(\n        [\n            list(p1.loc),\n            list(p2.loc),\n            list(p3.loc),\n        ],\n    ).T,\n)"
      ]
    },
    {
      "cell_type": "markdown",
      "metadata": {},
      "source": [
        "Next, we define the target squared sound pressure values for each source.\n\n"
      ]
    },
    {
      "cell_type": "code",
      "execution_count": null,
      "metadata": {
        "collapsed": false
      },
      "outputs": [],
      "source": [
        "nfft = ps.fftfreq().shape[0]\ntarget_data = np.array([[n1.rms**2 / nfft], [n2.rms**2 / nfft], [n3.rms**2 / nfft]]).T"
      ]
    },
    {
      "cell_type": "markdown",
      "metadata": {},
      "source": [
        "Finally, we use the :class:`~acoular.tools.metrics.MetricEvaluator` class to evaluate the\nreconstruction accuracy of the beamforming algorithm with three different metrics. A circular\nsector with a radius of 5% of the aperture is used to define the sectors for the evaluation.\n\n"
      ]
    },
    {
      "cell_type": "code",
      "execution_count": null,
      "metadata": {
        "collapsed": false
      },
      "outputs": [],
      "source": [
        "mv = MetricEvaluator(\n    sector=ac.CircSector(r=0.05 * mg.aperture),\n    grid=rg,\n    data=pm.reshape((1, -1)),\n    target_grid=target_grid,\n    target_data=target_data,\n)"
      ]
    },
    {
      "cell_type": "markdown",
      "metadata": {},
      "source": [
        "Plot the data\n\n"
      ]
    },
    {
      "cell_type": "code",
      "execution_count": null,
      "metadata": {
        "collapsed": false
      },
      "outputs": [],
      "source": [
        "plt.figure()\n# show map\nplt.imshow(Lm.T, origin='lower', vmin=Lm.max() - 10, extent=rg.extent, interpolation='none')\n# plot sectors\nax = plt.gca()\nfor j, sector in enumerate(mv.sectors):\n    ax.add_patch(plt.Circle((sector.x, sector.y), sector.r, color='red', fill=False))\n    # annotate specific level error below circles\n    plt.annotate(\n        r'$\\Delta L_{p,e,s}$=' + str(round(mv.get_specific_level_error()[0, j], 2)) + ' dB',\n        xy=(sector.x - 0.1, sector.y - sector.r - 0.01),\n        color='white',\n    )\n# annotate overall level error\nplt.annotate(\n    r'$\\Delta L_{p,e,o}$=' + str(round(mv.get_overall_level_error()[0], 2)) + ' dB',\n    xy=(0.05, 0.95),\n    xycoords='axes fraction',\n    color='white',\n)\nplt.annotate(\n    r'$\\Delta L_{p,e,i}$=' + str(round(mv.get_inverse_level_error()[0], 2)) + ' dB',\n    xy=(0.6, 0.95),\n    xycoords='axes fraction',\n    color='white',\n)\nplt.colorbar()\nplt.show()"
      ]
    }
  ],
  "metadata": {
    "kernelspec": {
      "display_name": "Python 3",
      "language": "python",
      "name": "python3"
    },
    "language_info": {
      "codemirror_mode": {
        "name": "ipython",
        "version": 3
      },
      "file_extension": ".py",
      "mimetype": "text/x-python",
      "name": "python",
      "nbconvert_exporter": "python",
      "pygments_lexer": "ipython3",
      "version": "3.13.7"
    }
  },
  "nbformat": 4,
  "nbformat_minor": 0
}