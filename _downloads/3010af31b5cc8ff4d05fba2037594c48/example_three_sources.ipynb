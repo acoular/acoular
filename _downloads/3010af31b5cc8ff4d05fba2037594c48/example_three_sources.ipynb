{
  "cells": [
    {
      "cell_type": "markdown",
      "metadata": {},
      "source": [
        "\n# Three sources -- Generate synthetic microphone array data.\n\nGenerates a test data set for three sources.\n\nThe simulation generates the sound pressure at 64 microphones that are\narrangend in the 'array64' geometry which is part of the package. The sound\npressure signals are sampled at 51200 Hz for a duration of 1 second.\nThe simulated signals are stored in a HDF5 file named 'three_sources.h5'.\n\nSource location (relative to array center) and levels:\n\n====== =============== ======\nSource Location        Level\n====== =============== ======\n1      (-0.1,-0.1,0.3) 1 Pa\n2      (0.15,0,0.3)    0.7 Pa\n3      (0,0.1,0.3)     0.5 Pa\n====== =============== ======\n"
      ]
    },
    {
      "cell_type": "code",
      "execution_count": null,
      "metadata": {
        "collapsed": false
      },
      "outputs": [],
      "source": [
        "from pathlib import Path\n\nimport acoular as ac\n\nsfreq = 51200\nduration = 1\nnum_samples = duration * sfreq\nmicgeofile = Path(ac.__file__).parent / 'xml' / 'array_64.xml'\nh5savefile = Path('three_sources.h5')\n\nm = ac.MicGeom(file=micgeofile)\nn1 = ac.WNoiseGenerator(sample_freq=sfreq, num_samples=num_samples, seed=1)\nn2 = ac.WNoiseGenerator(sample_freq=sfreq, num_samples=num_samples, seed=2, rms=0.7)\nn3 = ac.WNoiseGenerator(sample_freq=sfreq, num_samples=num_samples, seed=3, rms=0.5)\np1 = ac.PointSource(signal=n1, mics=m, loc=(-0.1, -0.1, -0.3))\np2 = ac.PointSource(signal=n2, mics=m, loc=(0.15, 0, -0.3))\np3 = ac.PointSource(signal=n3, mics=m, loc=(0, 0.1, -0.3))\np = ac.Mixer(source=p1, sources=[p2, p3])\nwh5 = ac.WriteH5(source=p, file=h5savefile)\nwh5.save()"
      ]
    },
    {
      "cell_type": "markdown",
      "metadata": {},
      "source": [
        ".. seealso::\n   :doc:`example_basic_beamforming` for an example on how to load and analyze the generated data\n   with Beamforming.\n\n"
      ]
    }
  ],
  "metadata": {
    "kernelspec": {
      "display_name": "Python 3",
      "language": "python",
      "name": "python3"
    },
    "language_info": {
      "codemirror_mode": {
        "name": "ipython",
        "version": 3
      },
      "file_extension": ".py",
      "mimetype": "text/x-python",
      "name": "python",
      "nbconvert_exporter": "python",
      "pygments_lexer": "ipython3",
      "version": "3.13.7"
    }
  },
  "nbformat": 4,
  "nbformat_minor": 0
}