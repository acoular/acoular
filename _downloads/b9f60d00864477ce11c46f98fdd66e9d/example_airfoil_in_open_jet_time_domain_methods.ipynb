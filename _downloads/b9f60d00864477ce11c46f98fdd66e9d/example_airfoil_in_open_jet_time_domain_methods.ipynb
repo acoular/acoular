{
  "cells": [
    {
      "cell_type": "markdown",
      "metadata": {},
      "source": [
        "\n# Airfoil in open jet -- Time domain beamforming methods.\n\nDemonstrates different microphone array methods operating in the time domain.\nUses measured data in file example_data.h5, calibration in file example_calib.xml,\nmicrophone geometry in array_56.xml (part of Acoular).\n"
      ]
    },
    {
      "cell_type": "code",
      "execution_count": null,
      "metadata": {
        "collapsed": false
      },
      "outputs": [],
      "source": [
        "from pathlib import Path\n\nimport acoular as ac\nimport numpy as np\nfrom acoular.tools.helpers import get_data_file"
      ]
    },
    {
      "cell_type": "markdown",
      "metadata": {},
      "source": [
        "The 4 kHz third-octave band is used for the example.\n\n"
      ]
    },
    {
      "cell_type": "code",
      "execution_count": null,
      "metadata": {
        "collapsed": false
      },
      "outputs": [],
      "source": [
        "cfreq = 4000\nnum = 3"
      ]
    },
    {
      "cell_type": "markdown",
      "metadata": {},
      "source": [
        "Obtain necessary data\n\n"
      ]
    },
    {
      "cell_type": "code",
      "execution_count": null,
      "metadata": {
        "collapsed": false
      },
      "outputs": [],
      "source": [
        "time_data_file = get_data_file('example_data.h5')\ncalib_file = get_data_file('example_calib.xml')"
      ]
    },
    {
      "cell_type": "markdown",
      "metadata": {},
      "source": [
        "Setting up the processing chain for the time domain methods.\n\n.. hint::\n   An in-depth explanation for setting up the time data, microphone geometry, environment and\n   steering vector is given in the example :doc:`example_airfoil_in_open_jet_steering_vectors`.\n\n"
      ]
    },
    {
      "cell_type": "code",
      "execution_count": null,
      "metadata": {
        "collapsed": false
      },
      "outputs": [],
      "source": [
        "ts = ac.MaskedTimeSamples(\n    file=time_data_file,\n    invalid_channels=[1, 7],\n    start=0,\n    stop=16000,\n)\ncalib = ac.Calib(source=ts, file=calib_file, invalid_channels=[1, 7])\nmics = ac.MicGeom(file=Path(ac.__file__).parent / 'xml' / 'array_56.xml', invalid_channels=[1, 7])\ngrid = ac.RectGrid(x_min=-0.6, x_max=-0.0, y_min=-0.3, y_max=0.3, z=-0.68, increment=0.05)\nenv = ac.Environment(c=346.04)\nst = ac.SteeringVector(grid=grid, mics=mics, env=env)"
      ]
    },
    {
      "cell_type": "markdown",
      "metadata": {},
      "source": [
        "First, classic delay-and-sum beamforming in time domain is set up using\nthe :class:`~acoular.tbeamform.BeamformerTime` class.\nTo produce an image of the sound sources, the beamformer time signal output for each grid-point\nis zero-phase filtered, squared and block-wise averaged over time.\nThe result is cached to disk to prevent recalculation.\n\n"
      ]
    },
    {
      "cell_type": "code",
      "execution_count": null,
      "metadata": {
        "collapsed": false
      },
      "outputs": [],
      "source": [
        "bt = ac.BeamformerTime(source=calib, steer=st)\nft = ac.FiltFiltOctave(source=bt, band=cfreq)\npt = ac.TimePower(source=ft)\navgt = ac.Average(source=pt, num_per_average=1024)\ncacht = ac.Cache(source=avgt)  # cache to prevent recalculation"
      ]
    },
    {
      "cell_type": "markdown",
      "metadata": {},
      "source": [
        "Second, by using the :class:`~acoular.tbeamform.BeamformerTimeSq` class, the squared output of the\nbeamformer is calculated directly. It also allows for the removal of the autocorrelation, which is\nsimilar to the removal of the cross spectral matrix diagonal.\n\n"
      ]
    },
    {
      "cell_type": "code",
      "execution_count": null,
      "metadata": {
        "collapsed": false
      },
      "outputs": [],
      "source": [
        "fi = ac.FiltFiltOctave(source=calib, band=cfreq)\nbts = ac.BeamformerTimeSq(source=fi, steer=st, r_diag=True)\navgts = ac.Average(source=bts, num_per_average=1024)\ncachts = ac.Cache(source=avgts)  # cache to prevent recalculation"
      ]
    },
    {
      "cell_type": "markdown",
      "metadata": {},
      "source": [
        "Third, CLEAN deconvolution in the time domain (CLEAN-T) is applied, using the\n:class:`~acoular.tbeamform.BeamformerCleant` class.\n\n"
      ]
    },
    {
      "cell_type": "code",
      "execution_count": null,
      "metadata": {
        "collapsed": false
      },
      "outputs": [],
      "source": [
        "fct = ac.FiltFiltOctave(source=calib, band=cfreq)\nbct = ac.BeamformerCleant(source=fct, steer=st, n_iter=20, damp=0.7)\nptct = ac.TimePower(source=bct)\navgct = ac.Average(source=ptct, num_per_average=1024)\ncachct = ac.Cache(source=avgct)  # cache to prevent recalculation"
      ]
    },
    {
      "cell_type": "markdown",
      "metadata": {},
      "source": [
        "Finally, squared signals with autocorrelation removal can be obtained by using the\n:class:`~acoular.tbeamform.BeamformerCleantSq` class.\n\n"
      ]
    },
    {
      "cell_type": "code",
      "execution_count": null,
      "metadata": {
        "collapsed": false
      },
      "outputs": [],
      "source": [
        "fcts = ac.FiltFiltOctave(source=calib, band=cfreq)\nbcts = ac.BeamformerCleantSq(source=fcts, steer=st, n_iter=20, damp=0.7, r_diag=True)\navgcts = ac.Average(source=bcts, num_per_average=1024)\ncachcts = ac.Cache(source=avgcts)  # cache to prevent recalculation"
      ]
    },
    {
      "cell_type": "markdown",
      "metadata": {},
      "source": [
        "Plot result maps for different beamformers in time domain\n\n"
      ]
    },
    {
      "cell_type": "code",
      "execution_count": null,
      "metadata": {
        "collapsed": false
      },
      "outputs": [],
      "source": [
        "import matplotlib.pyplot as plt\n\nftitles = ['BeamformerTime', 'BeamformerTimeSq', 'BeamformerCleant', 'BeamformerCleantSq']\ni2 = 1  # no of figure\ni1 = 1  # no of subplot\nfor b in (cacht, cachts, cachct, cachcts):\n    # first, plot time-dependent result (block-wise)\n    fig = plt.figure(i2, (7, 7))\n    fig.suptitle(f'{ftitles[i2 - 1]}: block-wise source maps (f={cfreq} Hz)')\n    i2 += 1\n    res = np.zeros(grid.size)  # init accumulator for average\n    i3 = 1  # no of subplot\n    for r in b.result(1):  # one single block\n        plt.subplot(4, 4, i3)\n        i3 += 1\n        res += r[0]  # average accum.\n        map = r[0].reshape(grid.shape)\n        mx = ac.L_p(map.max())\n        plt.imshow(ac.L_p(map.T), vmax=mx, vmin=mx - 15, origin='lower', interpolation='nearest', extent=grid.extent)\n        plt.title(f'{(i3 - 1) * 1024}')\n    res /= i3 - 1  # average\n    plt.tight_layout()\n\n    # second, plot overall result (average over all blocks)\n    fig = plt.figure(10, (8, 2))\n    fig.suptitle(f'Averaged source maps (f={cfreq} Hz)')\n    plt.subplot(1, 4, i1)\n    i1 += 1\n    map = res.reshape(grid.shape)\n    mx = ac.L_p(map.max())\n    plt.imshow(ac.L_p(map.T), vmax=mx, vmin=mx - 15, origin='lower', interpolation='nearest', extent=grid.extent)\n    plt.colorbar(shrink=0.5)\n    plt.title(('BeamformerTime', 'BeamformerTimeSq', 'BeamformerCleant', 'BeamformerCleantSq')[i2 - 2])\nplt.tight_layout()\nplt.show()"
      ]
    }
  ],
  "metadata": {
    "kernelspec": {
      "display_name": "Python 3",
      "language": "python",
      "name": "python3"
    },
    "language_info": {
      "codemirror_mode": {
        "name": "ipython",
        "version": 3
      },
      "file_extension": ".py",
      "mimetype": "text/x-python",
      "name": "python",
      "nbconvert_exporter": "python",
      "pygments_lexer": "ipython3",
      "version": "3.13.7"
    }
  },
  "nbformat": 4,
  "nbformat_minor": 0
}