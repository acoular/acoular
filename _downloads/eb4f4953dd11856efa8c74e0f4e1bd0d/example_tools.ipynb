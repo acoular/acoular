{
  "cells": [
    {
      "cell_type": "markdown",
      "metadata": {},
      "source": [
        "\n# Tools -- Demonstrates barspectrum tool of Acoular\n\nA noise source emitting white noise is simulated. Its spectrum at a single\nmicrophone is plotted by using functions from acoular.tools.\n"
      ]
    },
    {
      "cell_type": "code",
      "execution_count": null,
      "metadata": {
        "collapsed": false
      },
      "outputs": [],
      "source": [
        "import acoular as ac\nimport numpy as np\nfrom acoular.tools import barspectrum\n\n#  Set up a single microphone at (0,0,0)\nm = ac.MicGeom(pos_total=np.array([[0, 0, 0]]).T)\n\n# Create a noise source\nsample_freq = 12800  # sample frequency\nn1 = ac.WNoiseGenerator(sample_freq=sample_freq, num_samples=10 * sample_freq, seed=1)\n\nt = ac.PointSource(signal=n1, mics=m, loc=(1, 0, 1))\n\n# create power spectrum\nf = ac.PowerSpectra(source=t, window='Hanning', overlap='50%', block_size=4096, cached=False)\n\n# get spectrum data\nspectrum_data = np.real(f.csm[:, 0, 0])  # get power spectrum from cross-spectral matrix\nfreqs = f.fftfreq()  # FFT frequencies\n\n# use barspectrum from acoular.tools to create third octave plot data\nband = 3  # octave: 1 ;   1/3-octave: 3 (for plotting)\n(f_borders, p, f_center) = barspectrum(spectrum_data, freqs, band, bar=True)\n(f_borders_, p_, f_center_) = barspectrum(spectrum_data, freqs, band, bar=False)"
      ]
    },
    {
      "cell_type": "markdown",
      "metadata": {},
      "source": [
        "create figure with barspectra\n\n"
      ]
    },
    {
      "cell_type": "code",
      "execution_count": null,
      "metadata": {
        "collapsed": false
      },
      "outputs": [],
      "source": [
        "import matplotlib.pyplot as plt\n\nplt.figure(figsize=(20, 6))\nplt.title('Powerspectrum')\nplt.plot(f_borders, ac.L_p(p), label='bar=True')\nplt.plot(f_borders_, ac.L_p(p_), label='bar=False')\nplt.xlim(f_borders[0] * 2 ** (-1.0 / 6), f_borders[-1] * 2 ** (1.0 / 6))\nplt.ylim(50, 90)\nplt.xscale('symlog')\nlabel_freqs = [str(int(_)) for _ in f_center]  # create string labels\nplt.xticks(f_center, label_freqs)\nplt.xlabel('f in Hz')\nplt.ylabel('SPL in dB')\nplt.grid(True)\nplt.legend()\nplt.show()"
      ]
    }
  ],
  "metadata": {
    "kernelspec": {
      "display_name": "Python 3",
      "language": "python",
      "name": "python3"
    },
    "language_info": {
      "codemirror_mode": {
        "name": "ipython",
        "version": 3
      },
      "file_extension": ".py",
      "mimetype": "text/x-python",
      "name": "python",
      "nbconvert_exporter": "python",
      "pygments_lexer": "ipython3",
      "version": "3.13.7"
    }
  },
  "nbformat": 4,
  "nbformat_minor": 0
}