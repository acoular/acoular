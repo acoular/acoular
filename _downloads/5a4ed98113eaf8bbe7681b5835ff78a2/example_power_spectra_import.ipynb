{
  "cells": [
    {
      "cell_type": "markdown",
      "metadata": {},
      "source": [
        "\n# Cross-spectral matrix import\n\nThis example demonstrates how to import a cross-spectral matrix from a external source by means of\nthe :class:`~acoular.spectra.PowerSpectraImport` class. The CSM is created numerically for a\nfrequency of 8 kHz.\n"
      ]
    },
    {
      "cell_type": "code",
      "execution_count": null,
      "metadata": {
        "collapsed": false
      },
      "outputs": [],
      "source": [
        "from pathlib import Path\n\nimport acoular as ac\nimport numpy as np"
      ]
    },
    {
      "cell_type": "markdown",
      "metadata": {},
      "source": [
        "Define the source positions and rms values of three sources as well as the microphone positions\n\n"
      ]
    },
    {
      "cell_type": "code",
      "execution_count": null,
      "metadata": {
        "collapsed": false
      },
      "outputs": [],
      "source": [
        "loc1 = (-0.1, -0.1, -0.3)\nloc2 = (0.15, 0, -0.3)\nloc3 = (0, 0.1, -0.3)\nrms = np.array([1, 0.7, 0.5])\n\nmicgeofile = Path(ac.__file__).parent / 'xml' / 'array_64.xml'\nmg = ac.MicGeom(file=micgeofile)"
      ]
    },
    {
      "cell_type": "markdown",
      "metadata": {},
      "source": [
        "Obtain the transfer function of the monopole sources by using the SteeringVector object\n\n"
      ]
    },
    {
      "cell_type": "code",
      "execution_count": null,
      "metadata": {
        "collapsed": false
      },
      "outputs": [],
      "source": [
        "st_src = ac.SteeringVector(grid=ac.ImportGrid(pos=np.array([loc1, loc2, loc3]).T), mics=mg)\nH = st_src.transfer(8000).T  # transfer functions for 8000 Hz\nH_h = H.transpose().conjugate()  # H hermetian"
      ]
    },
    {
      "cell_type": "markdown",
      "metadata": {},
      "source": [
        "Calculate the cross-spectral matrix for the three sources without noise\n\n"
      ]
    },
    {
      "cell_type": "code",
      "execution_count": null,
      "metadata": {
        "collapsed": false
      },
      "outputs": [],
      "source": [
        "Q = np.diag(rms) ** 2  # matrix containing the source strength\ncsm = (H @ Q.astype(complex) @ H_h)[np.newaxis]  # calculate csm"
      ]
    },
    {
      "cell_type": "markdown",
      "metadata": {},
      "source": [
        "Import the cross-spectral matrix using the PowerSpectraImport object\n\n"
      ]
    },
    {
      "cell_type": "code",
      "execution_count": null,
      "metadata": {
        "collapsed": false
      },
      "outputs": [],
      "source": [
        "ps_import = ac.PowerSpectraImport(csm=csm.copy(), frequencies=8000)"
      ]
    },
    {
      "cell_type": "markdown",
      "metadata": {},
      "source": [
        "Calculate the Beamforming result for the imported cross-spectral matrix\n\n"
      ]
    },
    {
      "cell_type": "code",
      "execution_count": null,
      "metadata": {
        "collapsed": false
      },
      "outputs": [],
      "source": [
        "rg = ac.RectGrid(x_min=-0.2, x_max=0.2, y_min=-0.2, y_max=0.2, z=-0.3, increment=0.01)\nst = ac.SteeringVector(grid=rg, mics=mg)\nbb = ac.BeamformerBase(freq_data=ps_import, steer=st, r_diag=False, cached=False)\npm = bb.synthetic(8000, 0)\nLm = ac.L_p(pm)"
      ]
    },
    {
      "cell_type": "markdown",
      "metadata": {},
      "source": [
        "Show the source map\n\n"
      ]
    },
    {
      "cell_type": "code",
      "execution_count": null,
      "metadata": {
        "collapsed": false
      },
      "outputs": [],
      "source": [
        "import matplotlib.pyplot as plt\n\nplt.figure()\nplt.imshow(Lm.T, origin='lower', vmin=Lm.max() - 10, extent=rg.extent, interpolation='bicubic')\nplt.colorbar()\nplt.show()"
      ]
    }
  ],
  "metadata": {
    "kernelspec": {
      "display_name": "Python 3",
      "language": "python",
      "name": "python3"
    },
    "language_info": {
      "codemirror_mode": {
        "name": "ipython",
        "version": 3
      },
      "file_extension": ".py",
      "mimetype": "text/x-python",
      "name": "python",
      "nbconvert_exporter": "python",
      "pygments_lexer": "ipython3",
      "version": "3.13.7"
    }
  },
  "nbformat": 4,
  "nbformat_minor": 0
}