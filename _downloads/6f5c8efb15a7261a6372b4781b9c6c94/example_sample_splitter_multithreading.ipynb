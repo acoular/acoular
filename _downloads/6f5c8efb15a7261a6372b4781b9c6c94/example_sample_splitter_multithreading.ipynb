{
  "cells": [
    {
      "cell_type": "markdown",
      "metadata": {},
      "source": [
        "\n# Parallel processing chains -- Multithreading with the SampleSplitter.\n\nThis Examples shows how to use the SampleSplitter class in a multithreading\n(3 threads) scenario.\n\nThree different objects (tp1, tp2 and tp3) obtain and process time data\nfrom the same MaskedTimeSamples object in parallel. The SampleSplitter class\nis used to split the data stream for parallel processing.\n"
      ]
    },
    {
      "cell_type": "code",
      "execution_count": null,
      "metadata": {
        "collapsed": false
      },
      "outputs": [],
      "source": [
        "import threading\nfrom time import sleep\n\nimport acoular as ac\nimport numpy as np"
      ]
    },
    {
      "cell_type": "markdown",
      "metadata": {},
      "source": [
        "Set up data source. For convenience, we use a synthetic white noise with length of 1 s.\n\n"
      ]
    },
    {
      "cell_type": "code",
      "execution_count": null,
      "metadata": {
        "collapsed": false
      },
      "outputs": [],
      "source": [
        "fs = 8192\nts = ac.TimeSamples(data=np.random.randn(fs * 1)[:, np.newaxis], sample_freq=fs)"
      ]
    },
    {
      "cell_type": "markdown",
      "metadata": {},
      "source": [
        "Connect SampleSplitter to data source\n\n"
      ]
    },
    {
      "cell_type": "code",
      "execution_count": null,
      "metadata": {
        "collapsed": false
      },
      "outputs": [],
      "source": [
        "ss = ac.SampleSplitter(source=ts)"
      ]
    },
    {
      "cell_type": "markdown",
      "metadata": {},
      "source": [
        "Create three objects to process the data\n\n"
      ]
    },
    {
      "cell_type": "code",
      "execution_count": null,
      "metadata": {
        "collapsed": false
      },
      "outputs": [],
      "source": [
        "tp1 = ac.TimePower(source=ss)\ntp2 = ac.TimePower(source=ss)\ntp3 = ac.TimePower(source=ss)\n\n# register these objects at SampleSplitter\nss.register_object(tp1, tp2, tp3)  # register objects"
      ]
    },
    {
      "cell_type": "markdown",
      "metadata": {},
      "source": [
        "Define some useful functions for inspecting and for reading data from\nthe SampleSplitter buffers. Three different functions are defined to\nsimulate different processing speeds (fast, mid, slow).\n\n"
      ]
    },
    {
      "cell_type": "code",
      "execution_count": null,
      "metadata": {
        "collapsed": false
      },
      "outputs": [],
      "source": [
        "def print_number_of_blocks_in_block_buffers():\n    \"\"\"Prints the number of data blocks in SampleSplitter-buffers. For each\n    subsequent object, a buffer exist.\n    \"\"\"\n    buffers = list(ss.block_buffer.values())\n    elements = [len(buf) for buf in buffers]\n    print(f\"num blocks in buffers: {dict(zip(['tp1','tp2','tp3'], elements))}\")\n\n\ndef get_data_fast(obj):  # not time consuming function\n    \"\"\"Gets data fast (pause 0.03 seconds)\"\"\"\n    for _ in obj.result(2048):  #\n        print('tp1 calls sample splitter')\n        print_number_of_blocks_in_block_buffers()\n        sleep(0.03)\n\n\ndef get_data_mid(obj):  # not time consuming function\n    \"\"\"Gets data mid speed (pause 0.05 seconds)\"\"\"\n    for i in obj.result(2048):  #\n        print('tp2 calls sample splitter')\n        print_number_of_blocks_in_block_buffers()\n        sleep(0.05)\n\n\ndef get_data_slow(obj):  # more time consuming function\n    \"\"\"Gets data slow (pause 0.07 seconds)\"\"\"\n    for i in obj.result(2048):  #\n        print('tp3 calls sample splitter')\n        print_number_of_blocks_in_block_buffers()\n        sleep(0.07)"
      ]
    },
    {
      "cell_type": "markdown",
      "metadata": {},
      "source": [
        "Prepare and start processing in threads\n\n"
      ]
    },
    {
      "cell_type": "code",
      "execution_count": null,
      "metadata": {
        "collapsed": false
      },
      "outputs": [],
      "source": [
        "worker1 = threading.Thread(target=get_data_fast, args=(tp1,))\nworker2 = threading.Thread(target=get_data_mid, args=(tp2,))\nworker3 = threading.Thread(target=get_data_slow, args=(tp3,))\n\nprint('start threads')\n\nworker1.start()\nworker2.start()\nworker3.start()\n\n[thr.join() for thr in [worker1, worker2, worker3]]\n\nprint('threads finished')"
      ]
    }
  ],
  "metadata": {
    "kernelspec": {
      "display_name": "Python 3",
      "language": "python",
      "name": "python3"
    },
    "language_info": {
      "codemirror_mode": {
        "name": "ipython",
        "version": 3
      },
      "file_extension": ".py",
      "mimetype": "text/x-python",
      "name": "python",
      "nbconvert_exporter": "python",
      "pygments_lexer": "ipython3",
      "version": "3.13.7"
    }
  },
  "nbformat": 4,
  "nbformat_minor": 0
}