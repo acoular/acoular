{
  "cells": [
    {
      "cell_type": "markdown",
      "metadata": {},
      "source": [
        "\n# Airfoil in open jet -- steering vectors.\n\nDemonstrates different steering vectors in Acoular and CSM diagonal removal.\nUses measured data in file example_data.h5, calibration in file example_calib.xml,\nmicrophone geometry in array_56.xml (part of Acoular).\n"
      ]
    },
    {
      "cell_type": "code",
      "execution_count": null,
      "metadata": {
        "collapsed": false
      },
      "outputs": [],
      "source": [
        "from pathlib import Path\n\nimport acoular as ac\nfrom acoular.tools.helpers import get_data_file"
      ]
    },
    {
      "cell_type": "markdown",
      "metadata": {},
      "source": [
        "The 4 kHz third-octave band is used for the example.\n\n"
      ]
    },
    {
      "cell_type": "code",
      "execution_count": null,
      "metadata": {
        "collapsed": false
      },
      "outputs": [],
      "source": [
        "cfreq = 4000\nnum = 3"
      ]
    },
    {
      "cell_type": "markdown",
      "metadata": {},
      "source": [
        "Obtain necessary data\n\n"
      ]
    },
    {
      "cell_type": "code",
      "execution_count": null,
      "metadata": {
        "collapsed": false
      },
      "outputs": [],
      "source": [
        "time_data_file = get_data_file('example_data.h5')\ncalib_file = get_data_file('example_calib.xml')"
      ]
    },
    {
      "cell_type": "markdown",
      "metadata": {},
      "source": [
        "First, we define the time samples using the :class:`~acoular.sources.MaskedTimeSamples` class that\nprovides masking of channels and samples. Here, we exclude the channels with index 1 and 7 and\nonly process the first 16000 samples of the time signals. Alternatively, we could use the\n:class:`~acoular.sources.TimeSamples` class that provides no masking at all.\n\n"
      ]
    },
    {
      "cell_type": "code",
      "execution_count": null,
      "metadata": {
        "collapsed": false
      },
      "outputs": [],
      "source": [
        "t1 = ac.MaskedTimeSamples(file=time_data_file)\nt1.start = 0\nt1.stop = 16000\ninvalid = [1, 7]\nt1.invalid_channels = invalid"
      ]
    },
    {
      "cell_type": "markdown",
      "metadata": {},
      "source": [
        "Calibration is usually needed and can be set as a separate processing block with the\n:class:`~acoular.Calib` object. Invalid channels can be set here as well, by setting the\n:attr:`invalid_channels` attribute.\n\n"
      ]
    },
    {
      "cell_type": "code",
      "execution_count": null,
      "metadata": {
        "collapsed": false
      },
      "outputs": [],
      "source": [
        "calib = ac.Calib(source=t1, file=calib_file, invalid_channels=invalid)"
      ]
    },
    {
      "cell_type": "markdown",
      "metadata": {},
      "source": [
        "The microphone geometry must have the same number of valid channels as the\n:class:`~acoular.sources.MaskedTimeSamples` object has. It also must be defined, which channels\nare invalid.\n\n"
      ]
    },
    {
      "cell_type": "code",
      "execution_count": null,
      "metadata": {
        "collapsed": false
      },
      "outputs": [],
      "source": [
        "micgeofile = Path(ac.__file__).parent / 'xml' / 'array_56.xml'\nm = ac.MicGeom(file=micgeofile)\nm.invalid_channels = invalid"
      ]
    },
    {
      "cell_type": "markdown",
      "metadata": {},
      "source": [
        "Next, we define a planar rectangular grid for calculating the beamforming map (the example grid is\nvery coarse for computational efficiency). A 3D grid is also available via the\n:class:`~acoular.grids.RectGrid3D` class.\n\n"
      ]
    },
    {
      "cell_type": "code",
      "execution_count": null,
      "metadata": {
        "collapsed": false
      },
      "outputs": [],
      "source": [
        "g = ac.RectGrid(x_min=-0.6, x_max=-0.0, y_min=-0.3, y_max=0.3, z=-0.68, increment=0.05)"
      ]
    },
    {
      "cell_type": "markdown",
      "metadata": {},
      "source": [
        "For frequency domain methods, :class:`~acoular.spectra.PowerSpectra` provides the cross spectral\nmatrix (and its eigenvalues and eigenvectors). Here, we use the Welch's method with a block size\nof 128 samples, Hanning window and 50% overlap.\n\n"
      ]
    },
    {
      "cell_type": "code",
      "execution_count": null,
      "metadata": {
        "collapsed": false
      },
      "outputs": [],
      "source": [
        "f = ac.PowerSpectra(source=calib, window='Hanning', overlap='50%', block_size=128)"
      ]
    },
    {
      "cell_type": "markdown",
      "metadata": {},
      "source": [
        "To define the measurement environment, i.e. medium characteristics, the\n:class:`~acoular.environments.Environment` class is used. (in this case, only the speed of sound\nis set)\n\n"
      ]
    },
    {
      "cell_type": "code",
      "execution_count": null,
      "metadata": {
        "collapsed": false
      },
      "outputs": [],
      "source": [
        "env = ac.Environment(c=346.04)"
      ]
    },
    {
      "cell_type": "markdown",
      "metadata": {},
      "source": [
        "The :class:`~acoular.fbeamform.SteeringVector` class provides the standard freefield sound\npropagation model in the steering vectors.\n\n"
      ]
    },
    {
      "cell_type": "code",
      "execution_count": null,
      "metadata": {
        "collapsed": false
      },
      "outputs": [],
      "source": [
        "st = ac.SteeringVector(grid=g, mics=m, env=env)"
      ]
    },
    {
      "cell_type": "markdown",
      "metadata": {},
      "source": [
        "Finally, we define two different beamformers and subsequently calculate the maps for different\nsteering vector formulations. Diagonal removal for the CSM can be performed via the\n:attr:`~acoular.fbeamform.BeamformerBase.r_diag` parameter.\n\n"
      ]
    },
    {
      "cell_type": "code",
      "execution_count": null,
      "metadata": {
        "collapsed": false
      },
      "outputs": [],
      "source": [
        "bb = ac.BeamformerBase(freq_data=f, steer=st, r_diag=True)\nbs = ac.BeamformerCleansc(freq_data=f, steer=st, r_diag=True)"
      ]
    },
    {
      "cell_type": "markdown",
      "metadata": {},
      "source": [
        "Plot result maps for different beamformers in frequency domain (left: with diagonal removal,\nright: without diagonal removal).\n\n"
      ]
    },
    {
      "cell_type": "code",
      "execution_count": null,
      "metadata": {
        "collapsed": false
      },
      "outputs": [],
      "source": [
        "import matplotlib.pyplot as plt\n\nfi = 1  # no of figure\nfor r_diag in (True, False):\n    plt.figure(fi, (5, 6))\n    fi += 1\n    i1 = 1  # no of subplot\n    for steer in ('true level', 'true location', 'classic', 'inverse'):\n        st.steer_type = steer\n        for b in (bb, bs):\n            plt.subplot(4, 2, i1)\n            i1 += 1\n            b.r_diag = r_diag\n            map = b.synthetic(cfreq, num)\n            mx = ac.L_p(map.max())\n            plt.imshow(ac.L_p(map.T), vmax=mx, vmin=mx - 15, origin='lower', interpolation='nearest', extent=g.extent)\n            plt.colorbar()\n            plt.title(b.__class__.__name__, fontsize='small')\n\n    plt.tight_layout()\n    plt.show()"
      ]
    },
    {
      "cell_type": "markdown",
      "metadata": {},
      "source": [
        ".. seealso::\n   :doc:`example_airfoil_in_open_jet_freq_domain_methods` for an application of further frequency\n   domain methods on the same data.\n\n"
      ]
    }
  ],
  "metadata": {
    "kernelspec": {
      "display_name": "Python 3",
      "language": "python",
      "name": "python3"
    },
    "language_info": {
      "codemirror_mode": {
        "name": "ipython",
        "version": 3
      },
      "file_extension": ".py",
      "mimetype": "text/x-python",
      "name": "python",
      "nbconvert_exporter": "python",
      "pygments_lexer": "ipython3",
      "version": "3.13.7"
    }
  },
  "nbformat": 4,
  "nbformat_minor": 0
}