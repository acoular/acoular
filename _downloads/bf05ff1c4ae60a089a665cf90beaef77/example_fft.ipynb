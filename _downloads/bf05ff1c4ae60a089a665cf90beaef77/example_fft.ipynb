{
  "cells": [
    {
      "cell_type": "markdown",
      "metadata": {},
      "source": [
        "\n# Fast Fourier Transform (FFT) of multichannel time data.\n\nDemonstrates how to calculate the blockwise FFT and spectrogram of the signal.\n"
      ]
    },
    {
      "cell_type": "markdown",
      "metadata": {},
      "source": [
        "Imports\n\n"
      ]
    },
    {
      "cell_type": "code",
      "execution_count": null,
      "metadata": {
        "collapsed": false
      },
      "outputs": [],
      "source": [
        "import acoular as ac\nimport numpy as np"
      ]
    },
    {
      "cell_type": "markdown",
      "metadata": {},
      "source": [
        "We define two sine wave signals with different frequencies (1000 Hz and 4000 Hz) and a noise\nsignal. Then, the signals are calculated and added together.\n\n"
      ]
    },
    {
      "cell_type": "code",
      "execution_count": null,
      "metadata": {
        "collapsed": false
      },
      "outputs": [],
      "source": [
        "sample_freq = 25600\nt_in_s = 30.0\nnum_samples = int(sample_freq * t_in_s)\n\nsine1 = ac.SineGenerator(sample_freq=sample_freq, num_samples=num_samples, freq=1000, amplitude=2.0)\nsine2 = ac.SineGenerator(sample_freq=sample_freq, num_samples=num_samples, freq=4000, amplitude=0.5)\nnoise = ac.WNoiseGenerator(sample_freq=sample_freq, num_samples=num_samples, rms=0.5)\nmixed_signal = (sine1.signal() + sine2.signal() + noise.signal())[:, np.newaxis]"
      ]
    },
    {
      "cell_type": "markdown",
      "metadata": {},
      "source": [
        "The mixed signal is then used to create a TimeSamples object.\n\n"
      ]
    },
    {
      "cell_type": "code",
      "execution_count": null,
      "metadata": {
        "collapsed": false
      },
      "outputs": [],
      "source": [
        "ts = ac.TimeSamples(data=mixed_signal, sample_freq=sample_freq)\nprint(ts.num_samples, ts.num_channels)"
      ]
    },
    {
      "cell_type": "markdown",
      "metadata": {},
      "source": [
        "## Create a spectrogram of the signal\nTherefore we want to process the FFT spectra of the signal blockwise. To do so, we use the\n:class:`~acoular.fprocess.RFFT` class, which calculates the FFT spectra of the signal blockwise.\n\n"
      ]
    },
    {
      "cell_type": "code",
      "execution_count": null,
      "metadata": {
        "collapsed": false
      },
      "outputs": [],
      "source": [
        "block_size = 512\n\n# results in the amplitude spectra\nfft = ac.RFFT(source=ts, block_size=block_size, window='Rectangular')\n\nspec = next(fft.result(num=1))[0]  # return a single snapshot\ntime_block = next(ts.result(num=block_size))[:, 0]\n\nprint(\"Parseval's theorem:\")\nprint('signal energy in time domain', np.round(np.sum(time_block**2)))\nprint(\n    'signal energy in frequency domain (single-sided)',\n    np.round((1 / block_size * np.sum(spec * spec.conjugate())).real),\n)\n\n# It can be seen, that the energy is not preserved when using the default 'none' scaling. Therefore,\n# we set the scaling to 'energy' to compensate for the energy loss due to truncation to a\n# single-sided spectrum.\n\nfft.scaling = 'energy'\nspec = next(fft.result(num=1))[0]\nprint(\n    'signal energy in frequency domain (single-sided) with energy scaling',\n    np.round((1 / block_size * np.sum(spec * spec.conjugate() / 2)).real),\n)\n\nfft.scaling = 'none'\nifft = ac.IRFFT(source=fft)\ntime_block_rec = next(ifft.result(num=block_size))[:, 0]\nprint('reconstructed signal energy in time domain', np.round(np.sum(time_block_rec**2)))"
      ]
    },
    {
      "cell_type": "markdown",
      "metadata": {},
      "source": [
        "Plot the spectrogram (time-frequency representation) of the signal. Here, we plot the amplitude\nspectra for each time block. Therefore, we normalize the fft spectra by the number of samples in\nthe block by setting the :attr:`scaling` to :code:`'amplitude'`. It can be varified from the\nspectrogram plot that the amplitude of the tones are correctly represented.\n\n"
      ]
    },
    {
      "cell_type": "code",
      "execution_count": null,
      "metadata": {
        "collapsed": false
      },
      "outputs": [],
      "source": [
        "import matplotlib.pyplot as plt\n\nfft.scaling = 'amplitude'\nspectrogram = ac.tools.return_result(fft)\n\n# plot the power spectrogram\nplt.figure()\nplt.imshow(np.abs(spectrogram.T), origin='lower', aspect='auto', extent=(0, t_in_s, 0, sample_freq / 2), vmax=2.0)\nplt.xlabel('Time / s')\nplt.ylabel('Frequency / Hz')\nplt.colorbar(label='Power Spectrum')\nplt.show()\n\nplt.figure()\nfor block_size in [4096, 256]:\n    fft.block_size = block_size\n    spec = next(fft.result(num=1))[0]\n    plt.plot(fft.freqs, np.abs(spec), label=f'block_size = {block_size}')\nplt.xlim(0, sample_freq / 2)\nplt.xlabel('Frequency / Hz')\nplt.ylabel('Amplitude Spectrum')\nplt.legend()\nplt.grid()\nplt.show()"
      ]
    },
    {
      "cell_type": "markdown",
      "metadata": {},
      "source": [
        "## Create an averaged power spectral density of the signal\nTo calculate the time averaged power spectral density of the signal, we use the\n:class:`~acoular.fprocess.AutoPowerSpectra` class.\n\n"
      ]
    },
    {
      "cell_type": "code",
      "execution_count": null,
      "metadata": {
        "collapsed": false
      },
      "outputs": [],
      "source": [
        "fft.scaling = 'none'\nap = ac.AutoPowerSpectra(source=fft, scaling='psd')  # results in the power spectrum\navg = ac.Average(source=ap, num_per_average=64)  # results in the time averaged power spectrum"
      ]
    },
    {
      "cell_type": "markdown",
      "metadata": {},
      "source": [
        "Plot the resulting power spectrum for different number of averages.\n\n"
      ]
    },
    {
      "cell_type": "code",
      "execution_count": null,
      "metadata": {
        "collapsed": false
      },
      "outputs": [],
      "source": [
        "for block_size in [256, 1024]:\n    plt.figure()\n    fft.block_size = block_size\n    for navg in [1, 100]:\n        avg.num_per_average = navg\n        spectrum = next(avg.result(num=1))\n        levels = ac.L_p(spectrum)\n        plt.plot(fft.freqs, levels[0], label=f'navg = {navg}, block_size = {block_size}')\n    plt.xlabel('Frequency / Hz')\n    plt.ylabel('PSD / dB')\n    plt.grid()\n    plt.legend()\n    plt.semilogx()\n    plt.show()"
      ]
    },
    {
      "cell_type": "markdown",
      "metadata": {},
      "source": [
        "## Create a cross-spectral matrix for multichannel signals\nTo calculate the cross-spectral matrix of the signal, we use the\n:class:`~acoular.fprocess.CrossPowerSpectra` class. First, we create a TimeSamples object with two\nchannels. Then, we calculate the cross-spectral matrix of the signal blockwise. We choose a\nnormalization method of 'psd' (Power Spectral Density) for the cross-spectral matrix.\n\n"
      ]
    },
    {
      "cell_type": "code",
      "execution_count": null,
      "metadata": {
        "collapsed": false
      },
      "outputs": [],
      "source": [
        "fft.block_size = 128\n\nmixed_signal = noise.signal()[:, np.newaxis]\nts = ac.TimeSamples(data=np.concatenate([mixed_signal, 0.5 * mixed_signal], axis=1), sample_freq=sample_freq)\n\n# compare with PowerSpectra\nps1 = ac.PowerSpectra(source=ts, block_size=fft.block_size, cached=False)\ncsm_comp = ps1.csm[:, :, :]\n\nfft.source = ts  # we need to change the source of the fft object to the new TimeSamples object\nps = ac.CrossPowerSpectra(source=fft)\navg = ac.Average(source=ps, num_per_average=int(ps1.num_blocks))\ncsm = next(avg.result(num=1))\n\n# reshape the cross-spectral matrix to a 3D array of shape (numfreq, num_channels, num_channels)\ncsm = csm.reshape(fft.num_freqs, ts.num_channels, ts.num_channels)"
      ]
    },
    {
      "cell_type": "markdown",
      "metadata": {},
      "source": [
        "Plot both spectra\n\n"
      ]
    },
    {
      "cell_type": "code",
      "execution_count": null,
      "metadata": {
        "collapsed": false
      },
      "outputs": [],
      "source": [
        "plt.figure()\ncolors = ['r', 'b']\nfor i in range(ts.num_channels):\n    c = colors[i]\n    auto_pow_spectrum = ac.L_p(csm_comp[:, i, i].real)\n    plt.plot(fft.freqs, auto_pow_spectrum, label=f'PowerSpectra ({i})', color=c, linestyle='-', linewidth=0.8)\n    auto_pow_spectrum = ac.L_p(csm[:, i, i].real)\n    plt.plot(fft.freqs, auto_pow_spectrum, label=f'CrossPowerSpectra ({i})', color=c, linestyle='--')\nplt.xlabel('Frequency / Hz')\nplt.ylabel('Power Spectrum / dB')\nplt.grid()\nplt.legend()\nplt.semilogx()\nplt.show()"
      ]
    }
  ],
  "metadata": {
    "kernelspec": {
      "display_name": "Python 3",
      "language": "python",
      "name": "python3"
    },
    "language_info": {
      "codemirror_mode": {
        "name": "ipython",
        "version": 3
      },
      "file_extension": ".py",
      "mimetype": "text/x-python",
      "name": "python",
      "nbconvert_exporter": "python",
      "pygments_lexer": "ipython3",
      "version": "3.13.7"
    }
  },
  "nbformat": 4,
  "nbformat_minor": 0
}