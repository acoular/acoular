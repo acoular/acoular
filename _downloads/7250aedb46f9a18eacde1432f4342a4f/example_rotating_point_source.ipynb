{
  "cells": [
    {
      "cell_type": "markdown",
      "metadata": {},
      "source": [
        "\n\n# Rotating point source\n\nDemonstrates the use of acoular for a point source moving on a circle trajectory.\nUses synthesized data.\n\nFour different methods are compared:\n\n* fixed focus time domain beamforming\n* fixed focus frequency domain beamforming\n* moving focus time domain beamforming\n* moving focus time domain deconvolution\n"
      ]
    },
    {
      "cell_type": "code",
      "execution_count": null,
      "metadata": {
        "collapsed": false
      },
      "outputs": [],
      "source": [
        "import acoular as ac\nimport matplotlib.pyplot as plt\nimport numpy as np"
      ]
    },
    {
      "cell_type": "markdown",
      "metadata": {},
      "source": [
        "First, we make some important definitions:\n\n* the frequency of interest (114 Hz),\n* 1/3 octave band for later analysis,\n* the sampling frequency (3072 Hz),\n* the array radius (3.0),\n* the radius of the source trajectory (2.5),\n* the distance of the source trajectory from the array (4),\n* the revolutions per second (15/60),\n* the total number of revolutions (1.5).\n\n"
      ]
    },
    {
      "cell_type": "code",
      "execution_count": null,
      "metadata": {
        "collapsed": false
      },
      "outputs": [],
      "source": [
        "freq = 6144.0 * 3 / 128.0\nnum = 3\nsfreq = 6144.0 / 2\nr = 3.0\nR = 2.5\nZ = 4\nrps = 15.0 / 60.0\nU = 1.5"
      ]
    },
    {
      "cell_type": "markdown",
      "metadata": {},
      "source": [
        "Construct the trajectory for the source. The source moves on a circle trajectory in\nanti-clockwise direction.\n\n"
      ]
    },
    {
      "cell_type": "code",
      "execution_count": null,
      "metadata": {
        "collapsed": false
      },
      "outputs": [],
      "source": [
        "tr = ac.Trajectory()\ntr1 = ac.Trajectory()\ntmax = U / rps\ndelta_t = 1.0 / rps / 16.0  # 16 steps per revolution\nfor t in np.arange(0, tmax * 1.001, delta_t):\n    i = t * rps * 2 * np.pi  # angle\n    # define points for trajectory spline\n    tr.points[t] = (R * np.cos(i), R * np.sin(i), Z)  # anti-clockwise rotation\n    tr1.points[t] = (R * np.cos(i), R * np.sin(i), Z)  # anti-clockwise rotation"
      ]
    },
    {
      "cell_type": "markdown",
      "metadata": {},
      "source": [
        "Define a circular microphone array with 28 microphones.\n\n"
      ]
    },
    {
      "cell_type": "code",
      "execution_count": null,
      "metadata": {
        "collapsed": false
      },
      "outputs": [],
      "source": [
        "m = ac.MicGeom()\nm.pos_total = np.array(\n    [\n        (r * np.sin(2 * np.pi * i + np.pi / 4), r * np.cos(2 * np.pi * i + np.pi / 4), 0)\n        for i in np.linspace(0.0, 1.0, 28, False)\n    ],\n).T"
      ]
    },
    {
      "cell_type": "markdown",
      "metadata": {},
      "source": [
        "Define the different source signals\n\n"
      ]
    },
    {
      "cell_type": "code",
      "execution_count": null,
      "metadata": {
        "collapsed": false
      },
      "outputs": [],
      "source": [
        "num_samples = int(sfreq * tmax)\nn1 = ac.WNoiseGenerator(sample_freq=sfreq, num_samples=num_samples)\ns1 = ac.SineGenerator(sample_freq=sfreq, num_samples=num_samples, freq=freq)"
      ]
    },
    {
      "cell_type": "markdown",
      "metadata": {},
      "source": [
        "Define the moving source and one fixed source and mix their signals.\nThe simulation output is cached by the :class:`~acoular.process.Cache` class.\n\n"
      ]
    },
    {
      "cell_type": "code",
      "execution_count": null,
      "metadata": {
        "collapsed": false
      },
      "outputs": [],
      "source": [
        "p0 = ac.MovingPointSource(signal=s1, mics=m, trajectory=tr1)\n# t = p0 # use only moving source\np1 = ac.PointSource(signal=n1, mics=m, loc=(0, R, Z))\nt = ac.Mixer(source=p0, sources=[p1])\ncached_mix = ac.Cache(source=t)\n\n# t = p1 # use only fix source"
      ]
    },
    {
      "cell_type": "markdown",
      "metadata": {},
      "source": [
        "Optionally, save the signal of channel 0 and 14 to a wave file.\n\n"
      ]
    },
    {
      "cell_type": "code",
      "execution_count": null,
      "metadata": {
        "collapsed": false
      },
      "outputs": [],
      "source": [
        "# ww = WriteWAV(source = t)\n# ww.channels = [0,14]\n# ww.save()"
      ]
    },
    {
      "cell_type": "markdown",
      "metadata": {},
      "source": [
        "Define the evaluation grid and the steering vector.\n\n"
      ]
    },
    {
      "cell_type": "code",
      "execution_count": null,
      "metadata": {
        "collapsed": false
      },
      "outputs": [],
      "source": [
        "g = ac.RectGrid(x_min=-3.0, x_max=+3.0, y_min=-3.0, y_max=+3.0, z=Z, increment=0.3)\nst = ac.SteeringVector(grid=g, mics=m)"
      ]
    },
    {
      "cell_type": "markdown",
      "metadata": {},
      "source": [
        "Plot the scene\n\n"
      ]
    },
    {
      "cell_type": "code",
      "execution_count": null,
      "metadata": {
        "collapsed": false
      },
      "outputs": [],
      "source": [
        "fig, ax = plt.subplots(subplot_kw={'projection': '3d'}, num=1)\nax.plot(m.pos[0], m.pos[1], m.pos[2], 'o', label='mics')\ngpos = g.pos.reshape((3, g.nxsteps, g.nysteps))\nax.plot_wireframe(gpos[0], gpos[1], gpos[2], color='k', lw=0.2, label='grid')\ntxyz = np.array(list(tr.traj(0, 4.1, 0.1)))\nax.plot(*txyz.T, 'k', label='trajectory')\nax.set(xlabel='x', ylabel='y', zlabel='z')\nfig.legend()"
      ]
    },
    {
      "cell_type": "markdown",
      "metadata": {},
      "source": [
        "## Fixed focus time domain beamforming\n\n"
      ]
    },
    {
      "cell_type": "code",
      "execution_count": null,
      "metadata": {
        "collapsed": false
      },
      "outputs": [],
      "source": [
        "fi = ac.FiltFiltOctave(source=cached_mix, band=freq, fraction='Third octave')\nbt = ac.BeamformerTimeSq(source=fi, steer=st, r_diag=True)\navgt = ac.Average(source=bt, num_per_average=int(sfreq * tmax / 16))  # 16 single images\ncacht = ac.Cache(source=avgt)  # cache to prevent recalculation"
      ]
    },
    {
      "cell_type": "markdown",
      "metadata": {},
      "source": [
        "Plot single frames. Note that the look direction is _towards_ the array. If you want a\nlook direction _from_ the array (like a photo camera would do), the image needs to be mirrored.\n\n"
      ]
    },
    {
      "cell_type": "code",
      "execution_count": null,
      "metadata": {
        "collapsed": false
      },
      "outputs": [],
      "source": [
        "plt.figure(2, (8, 7))\ni = 1\nmap2 = np.zeros(g.shape)  # accumulator for average\nfor res in cacht.result(1):\n    res0 = res[0].reshape(g.shape)\n    map2 += res0  # average\n    i += 1\n    plt.subplot(4, 4, i)\n    mx = ac.L_p(res0.max())\n    plt.imshow(\n        ac.L_p(np.transpose(res0)), vmax=mx, vmin=mx - 10, interpolation='nearest', extent=g.extent, origin='lower'\n    )\n    plt.colorbar()\nmap2 /= i\n\nplt.subplot(4, 4, 1)\nplt.text(0.4, 0.25, 'fixed\\nfocus', fontsize=15, ha='center')\nplt.axis('off')\nplt.tight_layout()"
      ]
    },
    {
      "cell_type": "markdown",
      "metadata": {},
      "source": [
        "## Moving focus time domain beamforming\nNew grid needed, the trajectory starts at origin and is oriented towards +x\nthus, with the circular movement assumed, the center of rotation is at (0,2.5)\n\n"
      ]
    },
    {
      "cell_type": "code",
      "execution_count": null,
      "metadata": {
        "collapsed": false
      },
      "outputs": [],
      "source": [
        "g1 = ac.RectGrid(\n    x_min=-3.0,\n    x_max=+3.0,\n    y_min=-1.0,\n    y_max=+5.0,\n    z=0,\n    increment=0.3,\n)  # grid point of origin is at trajectory (thus z=0)\nst1 = ac.SteeringVector(grid=g1, mics=m)\n# beamforming with trajectory (rvec axis perpendicular to trajectory)\nbts = ac.BeamformerTimeSqTraj(source=fi, steer=st1, trajectory=tr, rvec=np.array((0, 0, 1.0)))\navgts = ac.Average(source=bts, num_per_average=int(sfreq * tmax / 16))  # 16 single images\ncachts = ac.Cache(source=avgts)  # cache to prevent recalculation"
      ]
    },
    {
      "cell_type": "markdown",
      "metadata": {},
      "source": [
        "Plot the scene with moving grid. We show three example positions of the grid when it get moved and\nswiveled along the trajectory.\n\n"
      ]
    },
    {
      "cell_type": "code",
      "execution_count": null,
      "metadata": {
        "collapsed": false
      },
      "outputs": [],
      "source": [
        "fig, ax = plt.subplots(subplot_kw={'projection': '3d'}, num=3)\nax.plot(m.pos[0], m.pos[1], m.pos[2], 'o', label='mics')\n# translation and direction of trajectory\nfor loc, dx, co in zip(tr.traj(0, 1.3, 0.6), tr.traj(0, 1.3, 0.6, der=1), 'krg'):\n    dy = np.cross(bts.rvec, dx)  # new y-axis\n    dz = np.cross(dx, dy)  # new z-axis\n    RM = np.array((dx, dy, dz)).T  # rotation matrix\n    RM /= np.sqrt((RM * RM).sum(0))  # column normalized\n    tpos = np.dot(RM, g1.pos) + np.array(loc)[:, np.newaxis]  # rotation+translation\n    gpos = tpos.reshape((3, g.nxsteps, g.nysteps))\n    ax.plot_wireframe(gpos[0], gpos[1], gpos[2], color=co, lw=0.2)\n    ax.plot(loc[0], loc[1], loc[2], 'o', color=co, label='grid origin')\ntxyz = np.array(list(tr.traj(0, 4.1, 0.1)))\nax.plot(*txyz.T, 'k', label='trajectory')\nax.set(xlabel='x', ylabel='y', zlabel='z')\nfig.legend()"
      ]
    },
    {
      "cell_type": "markdown",
      "metadata": {},
      "source": [
        "Plot single frames\n\n"
      ]
    },
    {
      "cell_type": "code",
      "execution_count": null,
      "metadata": {
        "collapsed": false
      },
      "outputs": [],
      "source": [
        "plt.figure(4, (8, 7))\ni = 1\nmap3 = np.zeros(g1.shape)  # accumulator for average\nfor res in cachts.result(1):\n    res0 = res[0].reshape(g1.shape)\n    map3 += res0  # average\n    i += 1\n    plt.subplot(4, 4, i)\n    mx = ac.L_p(res0.max())\n    plt.imshow(\n        ac.L_p(np.transpose(res0)), vmax=mx, vmin=mx - 10, interpolation='nearest', extent=g1.extent, origin='lower'\n    )\n    plt.colorbar()\nmap3 /= i\n\nplt.subplot(4, 4, 1)\nplt.text(0.4, 0.25, 'moving\\nfocus', fontsize=15, ha='center')\nplt.axis('off')\nplt.tight_layout()"
      ]
    },
    {
      "cell_type": "markdown",
      "metadata": {},
      "source": [
        "## Moving focus time domain deconvolution\nbeamforming with trajectory (rvec axis perpendicular to trajectory)\n\n"
      ]
    },
    {
      "cell_type": "code",
      "execution_count": null,
      "metadata": {
        "collapsed": false
      },
      "outputs": [],
      "source": [
        "bct = ac.BeamformerCleantSqTraj(source=fi, steer=st1, trajectory=tr, rvec=np.array((0, 0, 1.0)), n_iter=5)\navgct = ac.Average(source=bct, num_per_average=int(sfreq * tmax / 16))  # 16 single images\ncachct = ac.Cache(source=avgct)  # cache to prevent recalculation"
      ]
    },
    {
      "cell_type": "markdown",
      "metadata": {},
      "source": [
        "Plot single frames\n\n"
      ]
    },
    {
      "cell_type": "code",
      "execution_count": null,
      "metadata": {
        "collapsed": false
      },
      "outputs": [],
      "source": [
        "plt.figure(5, (8, 7))\ni = 1\nmap4 = np.zeros(g1.shape)  # accumulator for average\nfor res in cachct.result(1):\n    res0 = res[0].reshape(g1.shape)\n    map4 += res0  # average\n    i += 1\n    plt.subplot(4, 4, i)\n    mx = ac.L_p(res0.max())\n    plt.imshow(\n        ac.L_p(np.transpose(res0)), vmax=mx, vmin=mx - 10, interpolation='nearest', extent=g1.extent, origin='lower'\n    )\n    plt.colorbar()\nmap4 /= i\n\nplt.subplot(4, 4, 1)\nplt.text(0.4, 0.25, 'moving\\nfocus\\ndeconvolution', fontsize=15, ha='center')\nplt.axis('off')\nplt.tight_layout()"
      ]
    },
    {
      "cell_type": "markdown",
      "metadata": {},
      "source": [
        "## Fixed focus frequency domain beamforming\n\n"
      ]
    },
    {
      "cell_type": "code",
      "execution_count": null,
      "metadata": {
        "collapsed": false
      },
      "outputs": [],
      "source": [
        "f = ac.PowerSpectra(\n    source=cached_mix,\n    window='Hanning',\n    overlap='50%',\n    block_size=128,\n)\nb = ac.BeamformerBase(freq_data=f, steer=st, r_diag=True)\nmap1 = b.synthetic(freq, num)"
      ]
    },
    {
      "cell_type": "markdown",
      "metadata": {},
      "source": [
        "Compare all four methods\n\n"
      ]
    },
    {
      "cell_type": "code",
      "execution_count": null,
      "metadata": {
        "collapsed": false
      },
      "outputs": [],
      "source": [
        "plt.figure(6, (10, 3))\nfor i, map, tit in zip(\n    (1, 2, 3, 4),\n    (map1, map2, map3, map4),\n    (\n        'frequency domain\\n fixed focus',\n        'time domain\\n fixed focus',\n        'time domain\\n fixed focus',\n        'time domain\\n deconvolution (moving focus)',\n    ),\n):\n    plt.subplot(1, 4, i)\n    mx = ac.L_p(map.max())\n    plt.imshow(\n        ac.L_p(np.transpose(map)), vmax=mx, vmin=mx - 10, interpolation='nearest', extent=g.extent, origin='lower'\n    )\n    plt.colorbar(shrink=0.4)\n    plt.title(tit)\nplt.tight_layout()\nplt.show()"
      ]
    }
  ],
  "metadata": {
    "kernelspec": {
      "display_name": "Python 3",
      "language": "python",
      "name": "python3"
    },
    "language_info": {
      "codemirror_mode": {
        "name": "ipython",
        "version": 3
      },
      "file_extension": ".py",
      "mimetype": "text/x-python",
      "name": "python",
      "nbconvert_exporter": "python",
      "pygments_lexer": "ipython3",
      "version": "3.13.7"
    }
  },
  "nbformat": 4,
  "nbformat_minor": 0
}