{
  "cells": [
    {
      "cell_type": "markdown",
      "metadata": {},
      "source": [
        "\n\n# Sector Integration Example\n\nLoads the example data set, sets diffrent Sectors for intergration.\nShows Acoular's Sector und Sound Pressure level Integration functionality.\n"
      ]
    },
    {
      "cell_type": "code",
      "execution_count": null,
      "metadata": {
        "collapsed": false
      },
      "outputs": [],
      "source": [
        "from pathlib import Path\n\nimport acoular as ac\nimport matplotlib.pyplot as plt\nimport numpy as np\nfrom acoular.tools.helpers import get_data_file\nfrom matplotlib.patches import Polygon, Rectangle"
      ]
    },
    {
      "cell_type": "markdown",
      "metadata": {},
      "source": [
        "Obtain necessary data\n\n"
      ]
    },
    {
      "cell_type": "code",
      "execution_count": null,
      "metadata": {
        "collapsed": false
      },
      "outputs": [],
      "source": [
        "time_data_file = get_data_file('example_data.h5')"
      ]
    },
    {
      "cell_type": "markdown",
      "metadata": {},
      "source": [
        "Define the necessary objects\n\n"
      ]
    },
    {
      "cell_type": "code",
      "execution_count": null,
      "metadata": {
        "collapsed": false
      },
      "outputs": [],
      "source": [
        "micgeofile = Path(ac.__file__).parent / 'xml' / 'array_56.xml'\n\nmg = ac.MicGeom(file=micgeofile)\nts = ac.TimeSamples(file=time_data_file)\nps = ac.PowerSpectra(source=ts, block_size=128, window='Hanning')\nrg = ac.RectGrid(x_min=-0.6, x_max=-0.0, y_min=-0.3, y_max=0.3, z=-0.68, increment=0.02)\nst = ac.SteeringVector(grid=rg, mics=mg)\nf = ac.PowerSpectra(source=ts, block_size=128)\nbf = ac.BeamformerBase(freq_data=f, steer=st)"
      ]
    },
    {
      "cell_type": "markdown",
      "metadata": {},
      "source": [
        "Integrate function can deal with multiple methods for integration:\n\n1. a circle containing of three values: x-center, y-center and radius\n\n"
      ]
    },
    {
      "cell_type": "code",
      "execution_count": null,
      "metadata": {
        "collapsed": false
      },
      "outputs": [],
      "source": [
        "circle = np.array([-0.3, -0.1, 0.05])"
      ]
    },
    {
      "cell_type": "markdown",
      "metadata": {},
      "source": [
        "2. a rectangle containing of 4 values: lower corner(x1, y1) and upper corner(x2, y2).\n\n"
      ]
    },
    {
      "cell_type": "code",
      "execution_count": null,
      "metadata": {
        "collapsed": false
      },
      "outputs": [],
      "source": [
        "rect = np.array([-0.5, -0.15, -0.4, 0.15])"
      ]
    },
    {
      "cell_type": "markdown",
      "metadata": {},
      "source": [
        "3. a polygon containing of vector tuples: x1,y1,x2,y2,...,xi,yi\n\n"
      ]
    },
    {
      "cell_type": "code",
      "execution_count": null,
      "metadata": {
        "collapsed": false
      },
      "outputs": [],
      "source": [
        "poly = np.array([-0.25, -0.1, -0.1, -0.1, -0.1, -0.2, -0.2, -0.25, -0.3, -0.2])"
      ]
    },
    {
      "cell_type": "markdown",
      "metadata": {},
      "source": [
        "4th alternative: define those sectors as Classes\n\n"
      ]
    },
    {
      "cell_type": "code",
      "execution_count": null,
      "metadata": {
        "collapsed": false
      },
      "outputs": [],
      "source": [
        "circle_sector = ac.CircSector(x=-0.3, y=-0.1, r=0.05)\nrect_sector = ac.RectSector(x_min=-0.5, x_max=-0.4, y_min=-0.15, y_max=0.15)"
      ]
    },
    {
      "cell_type": "markdown",
      "metadata": {},
      "source": [
        ":class:`~acoular.grids.PolySector` is a class that takes a list of points as input\nlist of points containing x1,y1,x2,y2,...,xi,yi\n\n"
      ]
    },
    {
      "cell_type": "code",
      "execution_count": null,
      "metadata": {
        "collapsed": false
      },
      "outputs": [],
      "source": [
        "poly_sector = ac.PolySector(edges=[-0.25, -0.1, -0.1, -0.1, -0.1, -0.2, -0.2, -0.25, -0.3, -0.2])"
      ]
    },
    {
      "cell_type": "markdown",
      "metadata": {},
      "source": [
        "The :class:`~acoular.grids.MultiSector` class allows to sum over multiple different sectors\n\n"
      ]
    },
    {
      "cell_type": "code",
      "execution_count": null,
      "metadata": {
        "collapsed": false
      },
      "outputs": [],
      "source": [
        "multi_sector = ac.MultiSector(sectors=[circle_sector, rect_sector, poly_sector])"
      ]
    },
    {
      "cell_type": "markdown",
      "metadata": {},
      "source": [
        "Two integration variants exist (with same outcome):\n1. use Acoular's integrate function.\nIntegrate SPL values from beamforming results using the shapes\n\n"
      ]
    },
    {
      "cell_type": "code",
      "execution_count": null,
      "metadata": {
        "collapsed": false
      },
      "outputs": [],
      "source": [
        "levels_circ = ac.integrate(bf.result[:], rg, circle)\nlevels_rect = ac.integrate(bf.result[:], rg, rect)\nlevels_poly = ac.integrate(bf.result[:], rg, poly)"
      ]
    },
    {
      "cell_type": "markdown",
      "metadata": {},
      "source": [
        "integrate SPL values from beamforming results using sector classes\n\n"
      ]
    },
    {
      "cell_type": "code",
      "execution_count": null,
      "metadata": {
        "collapsed": false
      },
      "outputs": [],
      "source": [
        "levels_circ_sector = ac.integrate(bf.result[:], rg, circle_sector)\nlevels_rect_sector = ac.integrate(bf.result[:], rg, rect_sector)\nlevels_poly_sector = ac.integrate(bf.result[:], rg, poly_sector)\nlevels_multi_sector = ac.integrate(bf.result[:], rg, multi_sector)"
      ]
    },
    {
      "cell_type": "markdown",
      "metadata": {},
      "source": [
        "2. use beamformers integrate function (does not require explicit assignment\nof grid object).\nIntegrate SPL values from beamforming results using the shapes\n\n"
      ]
    },
    {
      "cell_type": "code",
      "execution_count": null,
      "metadata": {
        "collapsed": false
      },
      "outputs": [],
      "source": [
        "levels_circ = bf.integrate(circle)\nlevels_rect = bf.integrate(rect)\nlevels_poly = bf.integrate(poly)"
      ]
    },
    {
      "cell_type": "markdown",
      "metadata": {},
      "source": [
        "integrate SPL values from beamforming results using sector classes\n\n"
      ]
    },
    {
      "cell_type": "code",
      "execution_count": null,
      "metadata": {
        "collapsed": false
      },
      "outputs": [],
      "source": [
        "levels_circ_sector = bf.integrate(circle_sector)\nlevels_rect_sector = bf.integrate(rect_sector)\nlevels_poly_sector = bf.integrate(poly_sector)\nlevels_multi_sector = bf.integrate(multi_sector)"
      ]
    },
    {
      "cell_type": "markdown",
      "metadata": {},
      "source": [
        "Plot map and sectors\n\n"
      ]
    },
    {
      "cell_type": "code",
      "execution_count": null,
      "metadata": {
        "collapsed": false
      },
      "outputs": [],
      "source": [
        "plt.figure()\nmap = bf.synthetic(2000, 1)\nmx = ac.L_p(map.max())\nplt.imshow(ac.L_p(map.T), origin='lower', vmin=mx - 15, interpolation='nearest', extent=rg.extent, cmap=plt.cm.hot_r)\nplt.colorbar()\ncircle1 = plt.Circle((-0.3, 0.1), 0.05, color='k', fill=False)\nplt.gcf().gca().add_artist(circle1)\npolygon = Polygon(poly.reshape(-1, 2), color='k', fill=False)\nplt.gcf().gca().add_artist(polygon)\nrect = Rectangle((-0.5, -0.15), 0.1, 0.3, linewidth=1, edgecolor='k', facecolor='none')\nplt.gcf().gca().add_artist(rect)\n\n# calculate the discrete frequencies for the integration\nfftfreqs = np.arange(128 / 2 + 1) * (51200 / 128)\n\n# plot from shapes\nplt.figure()\nplt.plot(fftfreqs, ac.L_p(levels_circ))\nplt.plot(fftfreqs, ac.L_p(levels_rect))\nplt.plot(fftfreqs, ac.L_p(levels_poly))\nplt.xlim([2000, 20000])\nplt.ylim([10, 80])\nplt.legend(['Circle', 'Rectangle', 'Polygon'])\n\n# plot from sector classes\nplt.figure()\nplt.plot(fftfreqs, ac.L_p(levels_circ_sector))\nplt.plot(fftfreqs, ac.L_p(levels_rect_sector))\nplt.plot(fftfreqs, ac.L_p(levels_poly_sector))\nplt.plot(fftfreqs, ac.L_p(levels_multi_sector))\nplt.xlim([2000, 20000])\nplt.ylim([10, 80])\nplt.legend(['Circle Sector', 'Rectangle Sector', 'Polygon Sector', 'Multisector'])\n\nplt.show()"
      ]
    }
  ],
  "metadata": {
    "kernelspec": {
      "display_name": "Python 3",
      "language": "python",
      "name": "python3"
    },
    "language_info": {
      "codemirror_mode": {
        "name": "ipython",
        "version": 3
      },
      "file_extension": ".py",
      "mimetype": "text/x-python",
      "name": "python",
      "nbconvert_exporter": "python",
      "pygments_lexer": "ipython3",
      "version": "3.13.7"
    }
  },
  "nbformat": 4,
  "nbformat_minor": 0
}