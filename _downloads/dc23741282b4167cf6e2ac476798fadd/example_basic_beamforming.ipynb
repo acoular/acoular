{
  "cells": [
    {
      "cell_type": "markdown",
      "metadata": {},
      "source": [
        "# Basic Beamforming -- Generate a map of three sources.\n\nLoads the simulated signals from the `three_sources.h5` file, analyzes them with Conventional\nBeamforming and generates a map of the three sources.\n\n<div class=\"alert alert-info\"><h4>Note</h4><p>The `three_sources.h5` file must be generated first by running the\n    :doc:`example_three_sources` example.</p></div>\n"
      ]
    },
    {
      "cell_type": "code",
      "execution_count": null,
      "metadata": {
        "collapsed": false
      },
      "outputs": [],
      "source": [
        "from pathlib import Path\n\nimport acoular as ac\nimport matplotlib.pyplot as plt\n\nmicgeofile = Path(ac.__file__).parent / 'xml' / 'array_64.xml'\ndatafile = Path('three_sources.h5')\nassert datafile.exists(), 'Data file not found, run example_three_sources.py first'\n\nmg = ac.MicGeom(file=micgeofile)\nts = ac.TimeSamples(file=datafile)\nps = ac.PowerSpectra(source=ts, block_size=128, window='Hanning')\nrg = ac.RectGrid(x_min=-0.2, x_max=0.2, y_min=-0.2, y_max=0.2, z=-0.3, increment=0.01)\nst = ac.SteeringVector(grid=rg, mics=mg)\nbb = ac.BeamformerBase(freq_data=ps, steer=st)\npm = bb.synthetic(8000, 3)\nLm = ac.L_p(pm)\n\nplt.figure(1)\nplt.imshow(Lm.T, origin='lower', vmin=Lm.max() - 10, extent=rg.extent, interpolation='bicubic')\nplt.colorbar()\n\nplt.figure(2)\nplt.plot(mg.pos[0], mg.pos[1], 'o')\nplt.axis('equal')\nplt.show()"
      ]
    }
  ],
  "metadata": {
    "kernelspec": {
      "display_name": "Python 3",
      "language": "python",
      "name": "python3"
    },
    "language_info": {
      "codemirror_mode": {
        "name": "ipython",
        "version": 3
      },
      "file_extension": ".py",
      "mimetype": "text/x-python",
      "name": "python",
      "nbconvert_exporter": "python",
      "pygments_lexer": "ipython3",
      "version": "3.13.7"
    }
  },
  "nbformat": 4,
  "nbformat_minor": 0
}