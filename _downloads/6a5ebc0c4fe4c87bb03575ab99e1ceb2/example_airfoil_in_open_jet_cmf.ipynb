{
  "cells": [
    {
      "cell_type": "markdown",
      "metadata": {},
      "source": [
        "\n# Airfoil in open jet -- Covariance matrix fitting (CMF).\n\nDemonstrates the inverse CMF method with different solvers.\nUses measured data in file example_data.h5, calibration in file example_calib.xml,\nmicrophone geometry in array_56.xml (part of Acoular).\n"
      ]
    },
    {
      "cell_type": "code",
      "execution_count": null,
      "metadata": {
        "collapsed": false
      },
      "outputs": [],
      "source": [
        "from pathlib import Path\n\nimport acoular as ac\nfrom acoular.tools.helpers import get_data_file"
      ]
    },
    {
      "cell_type": "markdown",
      "metadata": {},
      "source": [
        "The 4 kHz third-octave band is used for the example.\n\n"
      ]
    },
    {
      "cell_type": "code",
      "execution_count": null,
      "metadata": {
        "collapsed": false
      },
      "outputs": [],
      "source": [
        "cfreq = 4000\nnum = 3"
      ]
    },
    {
      "cell_type": "markdown",
      "metadata": {},
      "source": [
        "Obtain necessary data\n\n"
      ]
    },
    {
      "cell_type": "code",
      "execution_count": null,
      "metadata": {
        "collapsed": false
      },
      "outputs": [],
      "source": [
        "time_data_file = get_data_file('example_data.h5')\ncalib_file = get_data_file('example_calib.xml')"
      ]
    },
    {
      "cell_type": "markdown",
      "metadata": {},
      "source": [
        "Setting up the processing chain for :class:`~acoular.fbeamform.BeamformerCMF` methods.\n\n.. hint::\n   A step-by-step explanation for setting up the processing chain is given in the example\n   :doc:`example_airfoil_in_open_jet_steering_vectors`.\n\n"
      ]
    },
    {
      "cell_type": "code",
      "execution_count": null,
      "metadata": {
        "collapsed": false
      },
      "outputs": [],
      "source": [
        "ts = ac.MaskedTimeSamples(\n    file=time_data_file,\n    invalid_channels=[1, 7],\n    start=0,\n    stop=16000,\n)\ncalib = ac.Calib(source=ts, file=calib_file, invalid_channels=[1, 7])\nmics = ac.MicGeom(file=Path(ac.__file__).parent / 'xml' / 'array_56.xml', invalid_channels=[1, 7])\ngrid = ac.RectGrid(x_min=-0.6, x_max=-0.0, y_min=-0.3, y_max=0.3, z=-0.68, increment=0.05)\nenv = ac.Environment(c=346.04)\nst = ac.SteeringVector(grid=grid, mics=mics, env=env)\nf = ac.PowerSpectra(source=calib, window='Hanning', overlap='50%', block_size=128)\nb = ac.BeamformerCMF(freq_data=f, steer=st, alpha=1e-8)"
      ]
    },
    {
      "cell_type": "markdown",
      "metadata": {},
      "source": [
        "Plot result maps for CMF with different solvers from [SciPy](https://scipy.org/) and\n[scikit-learn](https://scikit-learn.org/stable/), including:\n\n* LassoLars\n* LassoLarsBIC\n* OMPCV\n* NNLS\n* fmin_l_bfgs_b\n\n"
      ]
    },
    {
      "cell_type": "code",
      "execution_count": null,
      "metadata": {
        "collapsed": false
      },
      "outputs": [],
      "source": [
        "import matplotlib.pyplot as plt\n\nplt.figure(1, (10, 7))  # no of figure\ni1 = 1  # no of subplot\n\nfor method in ('LassoLars', 'LassoLarsBIC', 'OMPCV', 'NNLS', 'fmin_l_bfgs_b'):\n    b.method = method\n    plt.subplot(2, 3, i1)\n    i1 += 1\n    map = b.synthetic(cfreq, 1)\n    mx = ac.L_p(map.max())\n    plt.imshow(ac.L_p(map.T), vmax=mx, vmin=mx - 15, origin='lower', interpolation='nearest', extent=grid.extent)\n    plt.colorbar(shrink=0.5)\n    plt.title(b.method)\n\nplt.tight_layout()\nplt.show()"
      ]
    }
  ],
  "metadata": {
    "kernelspec": {
      "display_name": "Python 3",
      "language": "python",
      "name": "python3"
    },
    "language_info": {
      "codemirror_mode": {
        "name": "ipython",
        "version": 3
      },
      "file_extension": ".py",
      "mimetype": "text/x-python",
      "name": "python",
      "nbconvert_exporter": "python",
      "pygments_lexer": "ipython3",
      "version": "3.13.7"
    }
  },
  "nbformat": 4,
  "nbformat_minor": 0
}