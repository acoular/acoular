{
  "cells": [
    {
      "cell_type": "markdown",
      "metadata": {},
      "source": [
        "\n# Grids\n\nThis example demonstrates the various grid types available in Acoular and their applications in\nbeamforming. We will cover:\n\n1. Rectangular grids (2D and 3D) for standard beamforming applications\n2. Line grids for analyzing sound sources along a straight line\n3. Grid properties and visualization techniques\n4. Integration with beamforming algorithms\n\nThe example includes practical demonstrations of how different grid types affect beamforming results\nand how to visualize them effectively.\n"
      ]
    },
    {
      "cell_type": "markdown",
      "metadata": {},
      "source": [
        "Let's start by importing the necessary modules.\n\n"
      ]
    },
    {
      "cell_type": "code",
      "execution_count": null,
      "metadata": {
        "collapsed": false
      },
      "outputs": [],
      "source": [
        "from pathlib import Path\n\nimport acoular as ac\nimport matplotlib.pyplot as plt\nimport numpy as np"
      ]
    },
    {
      "cell_type": "markdown",
      "metadata": {},
      "source": [
        "## Measurement Setup\n\n\nFirst, we'll set up a simulated measurement scenario to demonstrate how grids are used in\na typical Acoular workflow. This setup includes:\n\n"
      ]
    },
    {
      "cell_type": "code",
      "execution_count": null,
      "metadata": {
        "collapsed": false
      },
      "outputs": [],
      "source": [
        "# Define the microphone array geometry using the standard 64-microphone array stored in an xml file\nmicgeofile = Path(ac.__file__).parent / 'xml' / 'array_64.xml'\n# Create a MicGeom object to represent our microphone geometry\nmg = ac.MicGeom(file=micgeofile)\n# Deactivate every other microphone\nmg.invalid_channels = list(range(0, mg.num_mics, 2))\n# Generate simulated time data with three sound sources\npa = ac.demo.create_three_sources_2d(mg, h5savefile='')\n# To prepare for beamforming, we need to calculate the frequency spectra (cross spectral matrix)\n# of the signals. For this we'll use the PowerSpectra object.\nps = ac.PowerSpectra(source=pa, block_size=128, window='Hanning')\n# Next, we'll create a SteeringVector object.\n# Steering vectors are crucial for beamforming; they handle the time delays between microphones.\n# Keep in mind that the steering vector requires a grid as input, which we'll provide later.\nst = ac.SteeringVector(mics=mg)\n# Finally, well instantiate a BeamformerBase object.\n# This is the foundation for our beamforming algorithms,\n# and it takes the frequency data and steering vectors as input.\nbb = ac.BeamformerBase(freq_data=ps, steer=st)"
      ]
    },
    {
      "cell_type": "markdown",
      "metadata": {},
      "source": [
        "## Rectangular Grid\n\n\nThe ``RectGrid`` class provides a 2D Cartesian grid for beamforming.\nIt's defined by its boundaries in the x-y plane and a constant z-coordinate.\n\n"
      ]
    },
    {
      "cell_type": "markdown",
      "metadata": {},
      "source": [
        "**Basic RectGrid usage**\n\nCreate a rectangular grid in the x-y plane at z = -0.2 m\n\n"
      ]
    },
    {
      "cell_type": "code",
      "execution_count": null,
      "metadata": {
        "collapsed": false
      },
      "outputs": [],
      "source": [
        "rg = ac.RectGrid(x_min=-0.2, x_max=0.2, y_min=-0.2, y_max=0.2, z=-0.2, increment=0.01)"
      ]
    },
    {
      "cell_type": "markdown",
      "metadata": {},
      "source": [
        "**Grid Properties**\n\nRectGrid provides several useful properties for accessing grid information:\n\n"
      ]
    },
    {
      "cell_type": "code",
      "execution_count": null,
      "metadata": {
        "collapsed": false
      },
      "outputs": [],
      "source": [
        "print(f'Grid size: {rg.size}')  # Total number of grid points\nprint(f'Number of x steps: {rg.nxsteps}')  # Grid points along the x axis\nprint(f'Number of y steps: {rg.nysteps}')  # Grid points along the y axis\nprint(f'Grid shape: {rg.shape}')  # (nxsteps, nysteps)\nprint(f'Grid extent: {rg.extent}')  # Grid boundaries in a format suitable for matplotlib.pyplot's 'imshow' function.\nprint(f'Grid positions:\\n{rg.pos[:, :5]}')  # First 5 grid point positions"
      ]
    },
    {
      "cell_type": "markdown",
      "metadata": {},
      "source": [
        "**Beamforming with Rectangular Grids**\n\nLet's demonstrate how grid resolution affects beamforming results by varying the grid increment.\nBefore we do this, we need to assign the grid to the steering vector.\n\n"
      ]
    },
    {
      "cell_type": "code",
      "execution_count": null,
      "metadata": {
        "collapsed": false
      },
      "outputs": [],
      "source": [
        "st.grid = rg  # Assign the grid to the steering vector\n\nfig = plt.figure(figsize=(12, 5))\n\n# Calculate and plot results for three different grid resolutions\nfor i in range(2):\n    rg.increment = 0.01 * (i + 1)  # Increase grid increment\n\n    # Calculate beamforming output for exactly 8 kHz\n    pm = bb.synthetic(8000, 0)\n    Lm = ac.L_p(pm)\n\n    # Plot the results\n    ax = fig.add_subplot(1, 2, i + 1)\n    ax.imshow(\n        Lm.T,\n        origin='lower',\n        vmin=Lm.max() - 10,\n        extent=rg.extent,\n    )\n    ax.set_title(f'Beamforming Results\\n(grid increment: {rg.increment})')\n    ax.set_xlabel('x / m')\n    ax.set_ylabel('y / m')\n\nplt.tight_layout()\nplt.show()"
      ]
    },
    {
      "cell_type": "markdown",
      "metadata": {},
      "source": [
        "Note that the results become less precise as the grid increment increases. Conversely, decreasing\nthe grid increment increases the runtime, as more calculations are required. This trade-off\nbetween precision and computational cost should be kept in mind for practical applications.\n\n## 3D Grid\n\n\nThe ``RectGrid3D`` class extends RectGrid to three dimensions,\nallowing for volumetric beamforming analysis.\n\n"
      ]
    },
    {
      "cell_type": "markdown",
      "metadata": {},
      "source": [
        "**Basic RectGrid3D usage**\n\nCreate a 3D grid with uniform spacing\n\n"
      ]
    },
    {
      "cell_type": "code",
      "execution_count": null,
      "metadata": {
        "collapsed": false
      },
      "outputs": [],
      "source": [
        "rg3d = ac.RectGrid3D(x_min=-0.2, x_max=0.2, y_min=-0.2, y_max=0.2, z_min=-0.3, z_max=-0.1, increment=0.03)\n\n# We can also use different increments for each dimension:\n# rg3d.increment = (0.02, 0.02, 0.01)"
      ]
    },
    {
      "cell_type": "markdown",
      "metadata": {},
      "source": [
        "**3D Grid Properties**\n\nRectGrid3D provides additional properties for the z-dimension:\n\n"
      ]
    },
    {
      "cell_type": "code",
      "execution_count": null,
      "metadata": {
        "collapsed": false
      },
      "outputs": [],
      "source": [
        "print(f'3D Grid size: {rg3d.size}')\nprint(f'Number of x steps: {rg3d.nxsteps}')\nprint(f'Number of y steps: {rg3d.nysteps}')\nprint(f'Number of z steps: {rg3d.nzsteps}')\nprint(f'3D Grid shape: {rg3d.shape}')\nprint(f'3D Grid positions:\\n{rg3d.pos[:, :5]}')"
      ]
    },
    {
      "cell_type": "markdown",
      "metadata": {},
      "source": [
        "**Beamforming with 3D Grids**\n\nLet's demonstrate 3D beamforming using the CLEAN-SC algorithm.\n\n"
      ]
    },
    {
      "cell_type": "code",
      "execution_count": null,
      "metadata": {
        "collapsed": false
      },
      "outputs": [],
      "source": [
        "# Generate 3D test data\npa = ac.demo.create_three_sources_3d(mg, h5savefile='')\nps = ac.PowerSpectra(source=pa, block_size=128, window='Bartlett')\nbc = ac.BeamformerCleansc(freq_data=ps, steer=st, n_iter=10)\n\n# Update the steering vector with the 3D grid\nst.grid = rg3d\nrg3d.increment = 0.03  # Set uniform increment"
      ]
    },
    {
      "cell_type": "markdown",
      "metadata": {},
      "source": [
        "Now we are ready to compute the beamforming output.\nThis time, we'll calculate it for a frequency of exactly 8 kHz.\n\n"
      ]
    },
    {
      "cell_type": "code",
      "execution_count": null,
      "metadata": {
        "collapsed": false
      },
      "outputs": [],
      "source": [
        "map_3d = bc.synthetic(8000, 0)  # Beamformer result in Pa^2\nLm = ac.L_p(map_3d)  # Convert to SPL / dB\n# Note that the output of 3D beamforming is a 3D field:\nprint('3D beamforming output shape:', Lm.shape)"
      ]
    },
    {
      "cell_type": "markdown",
      "metadata": {},
      "source": [
        "**Visualizing 3D Results**\n\nA 3D visualization of the beamforming results can be done in the following way:\n\n"
      ]
    },
    {
      "cell_type": "code",
      "execution_count": null,
      "metadata": {
        "collapsed": false
      },
      "outputs": [],
      "source": [
        "fig = plt.figure()\nax = fig.add_subplot(projection='3d')\n\n# Plot microphone positions\nax.scatter(*mg.pos, marker='o', label='Microphones')\n\n# Plot grid points\nax.scatter(*rg3d.pos, s=0.1, c='k', marker='.', label='3D Grid Points')\n\n# Plot beamforming results\nindices = Lm > 0\n# Find the corresponding grid points to the indices\npos = [p.reshape(Lm.shape)[indices] for p in rg3d.pos]\n# Plot the points with color mapping according to their beamforming intensity\nscatter = ax.scatter(*pos, c=Lm[indices], marker='^', label='Beamforming Results')\n\n# Add colorbar\ncbar = fig.colorbar(scatter)\ncbar.set_label('$L_p$ / dB')\n\n# Set labels and title\nax.set(xlabel='x / m', ylabel='y / m', zlabel='z / m')\nax.set_title('Beamforming Results on 3D Grid')\nax.legend(loc='upper left')\nplt.show()"
      ]
    },
    {
      "cell_type": "markdown",
      "metadata": {},
      "source": [
        "## Line Grid\n\nThe ``LineGrid`` class is useful for analyzing sound sources\nalong a straight line, such as in pipe flow or for linear machinery.\n\n"
      ]
    },
    {
      "cell_type": "markdown",
      "metadata": {},
      "source": [
        "**Basic LineGrid usage**\n\nCreate a line grid along the x-axis\n\n"
      ]
    },
    {
      "cell_type": "code",
      "execution_count": null,
      "metadata": {
        "collapsed": false
      },
      "outputs": [],
      "source": [
        "line_grid = ac.LineGrid()\n# We'll start our line at -0.2 meters in the x-direction, with y=0 and z=-0.3 meters\nline_grid.loc = (-0.2, 0.0, -0.3)\n# The line will point along the x-axis ((1,0,0) being the unit vector in the x-direction)\nline_grid.direction = (1.0, 0.0, 0.0)\n# Our line will be 40 cm long\nline_grid.length = 0.4\n# And we'll place 50 points along this line.\nline_grid.num_points = 50"
      ]
    },
    {
      "cell_type": "markdown",
      "metadata": {},
      "source": [
        "**Line Grid Properties**\n\nLet's examine the properties of our line grid:\n\n"
      ]
    },
    {
      "cell_type": "code",
      "execution_count": null,
      "metadata": {
        "collapsed": false
      },
      "outputs": [],
      "source": [
        "# Let's print out some basic information about our line grid.\nprint(f'Line grid size: {line_grid.size}')  # Total number of grid points\nprint(f'Line grid length: {line_grid.length} m')  # Total length of the line\nprint(f'Number of points: {line_grid.num_points}')  # Number of points along the line\nprint(f'Start location: {line_grid.loc}')  # Starting point of the line\nprint(f'Direction vector: {line_grid.direction}')  # Direction of the line\nprint(f'First 5 grid positions:\\n{line_grid.pos[:, :5]}')  # First 5 positions"
      ]
    },
    {
      "cell_type": "markdown",
      "metadata": {},
      "source": [
        "**Beamforming with Line Grids**\n\nLet's set up a line array measurement scenario.\n\n"
      ]
    },
    {
      "cell_type": "code",
      "execution_count": null,
      "metadata": {
        "collapsed": false
      },
      "outputs": [],
      "source": [
        "# Create a line of microphones:\nnum_mics = 32\npos_total = np.zeros((3, num_mics))\npos_total[0, :] = np.linspace(-0.2, 0.2, num_mics)\nline_mg = ac.MicGeom(pos_total=pos_total)\n\n# Generate test data\nline_pa = ac.demo.create_three_sources_1d(line_mg, h5savefile='')\nps = ac.PowerSpectra(source=line_pa, block_size=128, window='Hanning')\n\n# Set up beamformer\nst.grid = line_grid\nst.mics = line_mg\nbb = ac.BeamformerBase(freq_data=ps, steer=st)\nbs = ac.BeamformerCleansc(freq_data=ps, steer=st)\n\n# Calculate results across full frequency range\nfreqs = ps.fftfreq()\nresults = {key: np.zeros((freqs.size, line_grid.num_points)) for key in ['base', 'clean']}\n\nfor i, freq in enumerate(freqs):\n    results['base'][i, :] = bb.synthetic(freq, 0)\n    results['clean'][i, :] = bs.synthetic(freq, 0)"
      ]
    },
    {
      "cell_type": "markdown",
      "metadata": {},
      "source": [
        "**Visualizing Line Grid Results**\n\nCreate frequency-position plots of the beamforming and source mapping results.\n\n"
      ]
    },
    {
      "cell_type": "code",
      "execution_count": null,
      "metadata": {
        "collapsed": false
      },
      "outputs": [],
      "source": [
        "base_levels = ac.L_p(results['base'])\nclean_levels = ac.L_p(results['clean'])\nvmin = max(base_levels.max(), clean_levels.max()) - 20\n\nfig, (ax1, ax2) = plt.subplots(1, 2, figsize=(12, 5), sharey=True)\n\nmesh1 = ax1.pcolormesh(line_grid.pos[0, :], freqs / 1e3, base_levels, vmin=vmin)\nax1.set_xlabel('Position along line / m')\nax1.set_ylabel('Frequency / kHz')\nax1.set_title('Beamforming Results on Line Grid\\n(Base Beamformer)')\n\nmesh2 = ax2.pcolormesh(line_grid.pos[0, :], freqs / 1e3, clean_levels, vmin=vmin)\nax2.set_xlabel('Position along line / m')\nax2.set_title('Source Mapping on Line Grid\\n(CLEAN-SC)')\n\nfig.colorbar(mesh1, ax=[ax1, ax2], label='$L_p$ / dB')\nplt.show()"
      ]
    },
    {
      "cell_type": "markdown",
      "metadata": {},
      "source": [
        "Here, we see the beamforming results of the base beamformer and the source mapping results of the\nCLEAN-SC algorithm along the line grid. The sources are clearly visible as peaks in the sound\npressure level and converge to the source positions in the simulated data for the higher\nfrequencies. Note that the CLEAN-SC algorithm is able to resolve the sources better for lower\nfrequencies than the base beamformer.\n\n## Import Grid\n\n"
      ]
    },
    {
      "cell_type": "code",
      "execution_count": null,
      "metadata": {
        "collapsed": false
      },
      "outputs": [],
      "source": [
        "# Define source positions\nspos = np.array([[-0.1, -0.1], [0.15, 0], [0, 0.1]])\n\n# Create three grids with bivariate normal distributed points around each source\ngrids = np.zeros(3, dtype=ac.Grid)\ngrid_size = 100\nfor i, p in enumerate(spos):\n    gpos = np.zeros((3, grid_size)) - 0.3\n    # Generate 100 points with bivariate normal distribution around each source using a small\n    # covariance matrix (identity matrix scaled by 1/500) to keep points close to source\n    gpos[:2, :] = np.random.multivariate_normal(p, np.eye(2) / 500, size=grid_size).T\n    # Create ImportGrid object for each set of points\n    grids[i] = ac.ImportGrid(pos=gpos)"
      ]
    },
    {
      "cell_type": "markdown",
      "metadata": {},
      "source": [
        "The merged grid can be exported to an XML file using the\n:meth:`~acoular.grids.ImportGrid.export_gpos` method.\n\n"
      ]
    },
    {
      "cell_type": "code",
      "execution_count": null,
      "metadata": {
        "collapsed": false
      },
      "outputs": [],
      "source": [
        "# grids[0].export_gpos('grid1.xml')\n# grids[1].export_gpos('grid2.xml')\n# grids[2].export_gpos('grid3.xml')"
      ]
    },
    {
      "cell_type": "markdown",
      "metadata": {},
      "source": [
        "The XML files can be imported using the :meth:`~acoular.grids.ImportGrid.file` attribute.\n\n"
      ]
    },
    {
      "cell_type": "code",
      "execution_count": null,
      "metadata": {
        "collapsed": false
      },
      "outputs": [],
      "source": [
        "# grid = ac.ImportGrid(file='grid1.xml')"
      ]
    },
    {
      "cell_type": "markdown",
      "metadata": {},
      "source": [
        "For now, we will create a MergeGrid to combine all three grids and use this merged grid for\nfurther processing.\n\n"
      ]
    },
    {
      "cell_type": "code",
      "execution_count": null,
      "metadata": {
        "collapsed": false
      },
      "outputs": [],
      "source": [
        "merged_grid = ac.MergeGrid(grids=list(grids))"
      ]
    },
    {
      "cell_type": "markdown",
      "metadata": {},
      "source": [
        "Let's visualize the merged grid points.\n\n"
      ]
    },
    {
      "cell_type": "code",
      "execution_count": null,
      "metadata": {
        "collapsed": false
      },
      "outputs": [],
      "source": [
        "plt.figure(figsize=(6, 5))\nplt.scatter(*merged_grid.pos[:2], c='gray', s=10, label='Grid Points')\nplt.scatter(*spos.T, c='r', marker='*', s=200, label='Source Positions')\nplt.xlabel('x / m')\nplt.ylabel('y / m')\nplt.title('Merged Grid with Bivariate Normal Distributed Points')\nplt.legend()\nplt.grid(True)\nplt.show()"
      ]
    },
    {
      "cell_type": "markdown",
      "metadata": {},
      "source": [
        "Here, we see the merged grid points distributed around the three source positions.\nEach source has 100 points following a bivariate normal distribution, creating\na cloud of points that is denser near the source and sparser further away.\n\n"
      ]
    },
    {
      "cell_type": "markdown",
      "metadata": {},
      "source": [
        "**Beamforming with Merged Grid**\n\nFor beamforming with the merged grid, we return to the `measurement setup<measurement_setup>`\nfrom the `Rectangular Grid<rectangular_grid_example>` and `3D Grid<3d_grid_example>`\nexamples.\n\n"
      ]
    },
    {
      "cell_type": "code",
      "execution_count": null,
      "metadata": {
        "collapsed": false
      },
      "outputs": [],
      "source": [
        "# Set up the beamformer with the merged grid\npa = ac.demo.create_three_sources_2d(mg, h5savefile='')\nps = ac.PowerSpectra(source=pa, block_size=128, window='Hanning')\nst = ac.SteeringVector(grid=merged_grid, mics=mg)\nbb = ac.BeamformerBase(freq_data=ps, steer=st)\n\n# Calculate beamforming output for exactly 8 kHz\npm = bb.synthetic(8000, 0)\nLm = ac.L_p(pm)\n\n# Create a scatter plot of the beamforming results\nplt.figure(figsize=(7, 5))\n\ns = plt.scatter(*merged_grid.pos[:2], c=Lm, s=10, vmin=Lm.max() - 20, label='Beamforming Results')\nplt.scatter(*spos.T, c='r', marker='*', s=50, label='Source Positions')\n\nplt.colorbar(s, label='$L_p$ / dB')\nplt.xlabel('x / m')\nplt.ylabel('y / m')\nplt.title('Beamforming Results on Merged Grid\\n(Base Beamformer)')\nplt.legend()\nplt.grid(True)\nplt.show()"
      ]
    },
    {
      "cell_type": "markdown",
      "metadata": {},
      "source": [
        "We see that the sound pressure level is highest in the area between the microphones.\n\n.. seealso::\n   - :doc:`example_basic_beamforming`:\n     For basic beamforming concepts\n   - :doc:`example_3D_beamforming`:\n     For more advanced 3D beamforming applications\n   - :doc:`../wind_tunnel_examples/example_sectors_and_integration`:\n     For working with grid sectors and integration\n\n"
      ]
    }
  ],
  "metadata": {
    "kernelspec": {
      "display_name": "Python 3",
      "language": "python",
      "name": "python3"
    },
    "language_info": {
      "codemirror_mode": {
        "name": "ipython",
        "version": 3
      },
      "file_extension": ".py",
      "mimetype": "text/x-python",
      "name": "python",
      "nbconvert_exporter": "python",
      "pygments_lexer": "ipython3",
      "version": "3.13.7"
    }
  },
  "nbformat": 4,
  "nbformat_minor": 0
}